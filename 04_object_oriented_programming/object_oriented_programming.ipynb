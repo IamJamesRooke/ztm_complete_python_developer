{
 "cells": [
  {
   "cell_type": "markdown",
   "metadata": {},
   "source": [
    "# Object Oriented Programming"
   ]
  },
  {
   "cell_type": "markdown",
   "metadata": {},
   "source": [
    "Creating our own objects"
   ]
  },
  {
   "cell_type": "code",
   "execution_count": 31,
   "metadata": {},
   "outputs": [],
   "source": [
    "# create the class\n",
    "class PlayerCharacter():\n",
    "    \n",
    "    # __init__ is a constructor\n",
    "    # a constructor is a special method that gets called when you create an object\n",
    "    def __init__(self, name, age):\n",
    "        self.name = name # this can be translated to player1.name = 'James'\n",
    "        self.age = age\n",
    "\n",
    "    def run(self):\n",
    "        print('run')\n",
    "        return('done')\n",
    "\n",
    "# instantiate the class\n",
    "player1 = PlayerCharacter(name='James', age=42)\n",
    "player2 = PlayerCharacter(name='Tom', age=23)"
   ]
  },
  {
   "cell_type": "code",
   "execution_count": 32,
   "metadata": {},
   "outputs": [
    {
     "name": "stdout",
     "output_type": "stream",
     "text": [
      "<__main__.PlayerCharacter object at 0x0000026B5E0A74D0>\n",
      "James\n",
      "42\n",
      "run\n",
      "\n",
      "<__main__.PlayerCharacter object at 0x0000026B5D5044D0>\n",
      "Tom\n",
      "23\n",
      "run\n"
     ]
    },
    {
     "data": {
      "text/plain": [
       "'done'"
      ]
     },
     "execution_count": 32,
     "metadata": {},
     "output_type": "execute_result"
    }
   ],
   "source": [
    "print(player1)\n",
    "print(player1.name)\n",
    "print(player1.age)\n",
    "player1.run()\n",
    "\n",
    "print()\n",
    "print(player2)\n",
    "print(player2.name)\n",
    "print(player2.age)\n",
    "player2.run()"
   ]
  },
  {
   "cell_type": "markdown",
   "metadata": {},
   "source": [
    "Attributes and Methods"
   ]
  },
  {
   "cell_type": "code",
   "execution_count": null,
   "metadata": {},
   "outputs": [],
   "source": []
  }
 ],
 "metadata": {
  "kernelspec": {
   "display_name": "Python 3",
   "language": "python",
   "name": "python3"
  },
  "language_info": {
   "codemirror_mode": {
    "name": "ipython",
    "version": 3
   },
   "file_extension": ".py",
   "mimetype": "text/x-python",
   "name": "python",
   "nbconvert_exporter": "python",
   "pygments_lexer": "ipython3",
   "version": "3.11.9"
  }
 },
 "nbformat": 4,
 "nbformat_minor": 2
}
