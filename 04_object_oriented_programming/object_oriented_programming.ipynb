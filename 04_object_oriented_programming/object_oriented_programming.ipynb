{
 "cells": [
  {
   "cell_type": "markdown",
   "metadata": {},
   "source": [
    "# Object Oriented Programming"
   ]
  },
  {
   "cell_type": "markdown",
   "metadata": {},
   "source": [
    "Creating our own objects"
   ]
  },
  {
   "cell_type": "code",
   "execution_count": 31,
   "metadata": {},
   "outputs": [],
   "source": [
    "# create the class\n",
    "class PlayerCharacter():\n",
    "    \n",
    "    # __init__ is a constructor\n",
    "    # a constructor is a special method that gets called when you create an object\n",
    "    def __init__(self, name, age):\n",
    "        self.name = name # this can be translated to player1.name = 'James'\n",
    "        self.age = age\n",
    "\n",
    "    def run(self):\n",
    "        print('run')\n",
    "        return('done')\n",
    "\n",
    "# instantiate the class\n",
    "player1 = PlayerCharacter(name='James', age=42)\n",
    "player2 = PlayerCharacter(name='Tom', age=23)"
   ]
  },
  {
   "cell_type": "code",
   "execution_count": 32,
   "metadata": {},
   "outputs": [
    {
     "name": "stdout",
     "output_type": "stream",
     "text": [
      "<__main__.PlayerCharacter object at 0x0000026B5E0A74D0>\n",
      "James\n",
      "42\n",
      "run\n",
      "\n",
      "<__main__.PlayerCharacter object at 0x0000026B5D5044D0>\n",
      "Tom\n",
      "23\n",
      "run\n"
     ]
    },
    {
     "data": {
      "text/plain": [
       "'done'"
      ]
     },
     "execution_count": 32,
     "metadata": {},
     "output_type": "execute_result"
    }
   ],
   "source": [
    "print(player1)\n",
    "print(player1.name)\n",
    "print(player1.age)\n",
    "player1.run()\n",
    "\n",
    "print()\n",
    "print(player2)\n",
    "print(player2.name)\n",
    "print(player2.age)\n",
    "player2.run()"
   ]
  },
  {
   "cell_type": "markdown",
   "metadata": {},
   "source": [
    "Attributes and Methods"
   ]
  },
  {
   "cell_type": "code",
   "execution_count": 33,
   "metadata": {},
   "outputs": [
    {
     "name": "stdout",
     "output_type": "stream",
     "text": [
      "Help on PlayerCharacter in module __main__ object:\n",
      "\n",
      "class PlayerCharacter(builtins.object)\n",
      " |  PlayerCharacter(name, age)\n",
      " |  \n",
      " |  Methods defined here:\n",
      " |  \n",
      " |  __init__(self, name, age)\n",
      " |      Initialize self.  See help(type(self)) for accurate signature.\n",
      " |  \n",
      " |  run(self)\n",
      " |  \n",
      " |  ----------------------------------------------------------------------\n",
      " |  Data descriptors defined here:\n",
      " |  \n",
      " |  __dict__\n",
      " |      dictionary for instance variables\n",
      " |  \n",
      " |  __weakref__\n",
      " |      list of weak references to the object\n",
      "\n"
     ]
    }
   ],
   "source": [
    "help(player1)"
   ]
  },
  {
   "cell_type": "markdown",
   "metadata": {},
   "source": [
    "`__dict__` to see all attributes"
   ]
  },
  {
   "cell_type": "code",
   "execution_count": 36,
   "metadata": {},
   "outputs": [
    {
     "name": "stdout",
     "output_type": "stream",
     "text": [
      "{'name': 'James', 'age': 42}\n",
      "{'name': 'Tom', 'age': 23}\n"
     ]
    }
   ],
   "source": [
    "print(player1.__dict__)\n",
    "print(player2.__dict__)"
   ]
  },
  {
   "cell_type": "code",
   "execution_count": 38,
   "metadata": {},
   "outputs": [
    {
     "name": "stdout",
     "output_type": "stream",
     "text": [
      "None\n"
     ]
    }
   ],
   "source": [
    "print(player1.__weakref__)"
   ]
  },
  {
   "cell_type": "markdown",
   "metadata": {},
   "source": [
    "Object Attributes"
   ]
  },
  {
   "cell_type": "code",
   "execution_count": 45,
   "metadata": {},
   "outputs": [],
   "source": [
    "# create the class\n",
    "class PlayerCharacter():\n",
    "\n",
    "    membership = True # class object attribute, meaning it is the same for all instances\n",
    "\n",
    "    # NOTE: you can only call PlayerCharacter.membership for object attributes\n",
    "    \n",
    "    def __init__(self, name, age):\n",
    "            \n",
    "        if PlayerCharacter.membership: # you can also use self.membership\n",
    "            self.name = name\n",
    "            self.age = age # you can't use PlayerCharacter.age because it is not an object attribute\n",
    "\n",
    "    def shout_name(self):\n",
    "        print(f'My name is {self.name}!')\n",
    "\n",
    "# instantiate the class\n",
    "player1 = PlayerCharacter(name='James', age=42)\n",
    "player2 = PlayerCharacter(name='Tom', age=23)"
   ]
  },
  {
   "cell_type": "code",
   "execution_count": 46,
   "metadata": {},
   "outputs": [
    {
     "data": {
      "text/plain": [
       "True"
      ]
     },
     "execution_count": 46,
     "metadata": {},
     "output_type": "execute_result"
    }
   ],
   "source": [
    "player1.membership"
   ]
  },
  {
   "cell_type": "code",
   "execution_count": 47,
   "metadata": {},
   "outputs": [
    {
     "name": "stdout",
     "output_type": "stream",
     "text": [
      "My name is James!\n",
      "My name is Tom!\n"
     ]
    }
   ],
   "source": [
    "player1.shout_name()\n",
    "player2.shout_name()"
   ]
  },
  {
   "cell_type": "markdown",
   "metadata": {},
   "source": [
    "`__init__`"
   ]
  },
  {
   "cell_type": "code",
   "execution_count": 49,
   "metadata": {},
   "outputs": [
    {
     "data": {
      "text/plain": [
       "{'name': 'Tav', 'age': 18}"
      ]
     },
     "execution_count": 49,
     "metadata": {},
     "output_type": "execute_result"
    }
   ],
   "source": [
    "class PlayerCharacter():\n",
    "    \n",
    "    # can set default variables\n",
    "    def __init__(self, name='Tav', age=18):\n",
    "            self.name = name\n",
    "            self.age = age # you can't use PlayerCharacter.age because it is not an object attribute\n",
    "\n",
    "    def shout_name(self):\n",
    "        print(f'My name is {self.name}!')\n",
    "\n",
    "# instantiate the class\n",
    "player1 = PlayerCharacter()\n",
    "player1.__dict__"
   ]
  },
  {
   "cell_type": "markdown",
   "metadata": {},
   "source": [
    "## Cats OOP Exercise"
   ]
  },
  {
   "cell_type": "markdown",
   "metadata": {},
   "source": [
    "Start"
   ]
  },
  {
   "cell_type": "code",
   "execution_count": null,
   "metadata": {},
   "outputs": [],
   "source": [
    "#Given the below class:\n",
    "class Cat:\n",
    "    species = 'mammal'\n",
    "    def __init__(self, name, age):\n",
    "        self.name = name\n",
    "        self.age = age\n",
    "\n",
    "\n",
    "# 1 Instantiate the Cat object with 3 cats\n",
    "\n",
    "\n",
    "\n",
    "# 2 Create a function that finds the oldest cat\n",
    "\n",
    "\n",
    "\n",
    "# 3 Print out: \"The oldest cat is x years old.\". x will be the oldest cat age by using the function in #2"
   ]
  },
  {
   "cell_type": "markdown",
   "metadata": {},
   "source": [
    "My Solution (no Copilot assistance)"
   ]
  },
  {
   "cell_type": "code",
   "execution_count": 59,
   "metadata": {},
   "outputs": [
    {
     "name": "stdout",
     "output_type": "stream",
     "text": [
      "Oldest cat is Oreo who is 15 years old.\n"
     ]
    }
   ],
   "source": [
    "#Given the below class:\n",
    "class Cat:\n",
    "    species = 'mammal'\n",
    "    def __init__(self, name, age):\n",
    "        self.name = name\n",
    "        self.age = age\n",
    "\n",
    "# Create a function that finds the oldest cat\n",
    "def oldest_cat(*cats):   \n",
    "    \n",
    "    oldest_cat = {\n",
    "        'name': cats[0].name,\n",
    "        'age': cats[0].age\n",
    "    }\n",
    "    \n",
    "    for cat in cats:\n",
    "        if cat.age > oldest_cat['age']:\n",
    "            oldest_cat = {\n",
    "                'name': cat.name,\n",
    "                'age': cat.age\n",
    "            }\n",
    "\n",
    "    print(f\"Oldest cat is {oldest_cat['name']} who is {oldest_cat['age']} years old.\")\n",
    "\n",
    "# Instantiate the Cat object with 5 cats\n",
    "cat1 = Cat(name='Estrella', age=3)\n",
    "cat2 = Cat(name='Oreo', age=15)\n",
    "cat3 = Cat(name='Merigold', age=9)\n",
    "cat4 = Cat(name='Pookie', age=2)\n",
    "cat5 = Cat(name='Whiskers', age=4)\n",
    "\n",
    "# 3 Print out: \"The oldest cat is x years old.\". x will be the oldest cat age by using the function in #2\n",
    "oldest_cat(cat1, cat2, cat3, cat4, cat5)"
   ]
  },
  {
   "cell_type": "markdown",
   "metadata": {},
   "source": [
    "Copilot Suggestions\n",
    "- For the function, it suggested I use `lambda` which I don't understand very well."
   ]
  },
  {
   "cell_type": "code",
   "execution_count": 60,
   "metadata": {},
   "outputs": [
    {
     "name": "stdout",
     "output_type": "stream",
     "text": [
      "The oldest cat is Oreo who is 15 years old.\n"
     ]
    }
   ],
   "source": [
    "#Given the below class:\n",
    "class Cat:\n",
    "    species = 'mammal'\n",
    "    def __init__(self, name, age):\n",
    "        self.name = name\n",
    "        self.age = age\n",
    "\n",
    "# Create a function that finds the oldest cat\n",
    "def oldest_cat(*cats):\n",
    "    # Use the max function with a custom key to find the oldest cat\n",
    "    oldest = max(cats, key=lambda cat: cat.age)\n",
    "    print(f\"The oldest cat is {oldest.name} who is {oldest.age} years old.\")\n",
    "\n",
    "# Instantiate the Cat object with 5 cats\n",
    "cat1 = Cat(name='Estrella', age=3)\n",
    "cat2 = Cat(name='Oreo', age=15)\n",
    "cat3 = Cat(name='Merigold', age=9)\n",
    "cat4 = Cat(name='Pookie', age=2)\n",
    "cat5 = Cat(name='Whiskers', age=4)\n",
    "\n",
    "# Print out: \"The oldest cat is x years old.\". x will be the oldest cat age by using the function in #2\n",
    "oldest_cat(cat1, cat2, cat3, cat4, cat5)"
   ]
  },
  {
   "cell_type": "markdown",
   "metadata": {},
   "source": [
    "Official Solution\n",
    "- I could've made it easier I gues with just putting the `cat.age` inside the fucntion and use `max()`.\n",
    "- But that's too easy."
   ]
  },
  {
   "cell_type": "code",
   "execution_count": null,
   "metadata": {},
   "outputs": [],
   "source": [
    "# Exercise Cats Everywhere\n",
    "\n",
    "# Given the below class:\n",
    "\n",
    "class Cat:\n",
    "    species = 'mammal'\n",
    "\n",
    "    def __init__(self, name, age):\n",
    "        self.name = name\n",
    "        self.age = age\n",
    "\n",
    "#Answers:\n",
    "# 1 Instantiate the Cat object with 3 cats.\n",
    "cat1 = Cat('cat1', 5)\n",
    "cat2 = Cat('Cat2', 7)\n",
    "cat3 = Cat('Cat3', 3)\n",
    "\n",
    "\n",
    "# 2 Create a function that finds the oldest cat.\n",
    "def oldest_cat(*args):\n",
    "    return max(args)\n",
    "\n",
    "\n",
    "# 3 Print out: \"The oldest cat is x years old.\".\n",
    "# x will be the oldest cat age by using the function in #2\n",
    "print(f'Oldest Cat is {oldest_cat(cat1.age, cat2.age, cat3.age)} years old.')"
   ]
  },
  {
   "cell_type": "markdown",
   "metadata": {},
   "source": [
    "`@classmethod` and `@staticmethod`"
   ]
  },
  {
   "cell_type": "markdown",
   "metadata": {},
   "source": []
  }
 ],
 "metadata": {
  "kernelspec": {
   "display_name": "Python 3",
   "language": "python",
   "name": "python3"
  },
  "language_info": {
   "codemirror_mode": {
    "name": "ipython",
    "version": 3
   },
   "file_extension": ".py",
   "mimetype": "text/x-python",
   "name": "python",
   "nbconvert_exporter": "python",
   "pygments_lexer": "ipython3",
   "version": "3.11.9"
  }
 },
 "nbformat": 4,
 "nbformat_minor": 2
}
