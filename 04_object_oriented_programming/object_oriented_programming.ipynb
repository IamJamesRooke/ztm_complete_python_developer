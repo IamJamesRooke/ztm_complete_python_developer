{
 "cells": [
  {
   "cell_type": "markdown",
   "metadata": {},
   "source": [
    "# Object Oriented Programming"
   ]
  },
  {
   "cell_type": "markdown",
   "metadata": {},
   "source": [
    "Creating our own objects"
   ]
  },
  {
   "cell_type": "code",
   "execution_count": 1,
   "metadata": {},
   "outputs": [],
   "source": [
    "# create the class\n",
    "class PlayerCharacter():\n",
    "    \n",
    "    # __init__ is a constructor\n",
    "    # a constructor is a special method that gets called when you create an object\n",
    "    def __init__(self, name, age):\n",
    "        self.name = name # this can be translated to player1.name = 'James'\n",
    "        self.age = age\n",
    "\n",
    "    def run(self):\n",
    "        print('run')\n",
    "        return('done')\n",
    "\n",
    "# instantiate the class\n",
    "player1 = PlayerCharacter(name='James', age=42)\n",
    "player2 = PlayerCharacter(name='Tom', age=23)"
   ]
  },
  {
   "cell_type": "code",
   "execution_count": 2,
   "metadata": {},
   "outputs": [
    {
     "name": "stdout",
     "output_type": "stream",
     "text": [
      "<__main__.PlayerCharacter object at 0x0000026D71F51B50>\n",
      "James\n",
      "42\n",
      "run\n",
      "\n",
      "<__main__.PlayerCharacter object at 0x0000026D71F509D0>\n",
      "Tom\n",
      "23\n",
      "run\n"
     ]
    },
    {
     "data": {
      "text/plain": [
       "'done'"
      ]
     },
     "execution_count": 2,
     "metadata": {},
     "output_type": "execute_result"
    }
   ],
   "source": [
    "print(player1)\n",
    "print(player1.name)\n",
    "print(player1.age)\n",
    "player1.run()\n",
    "\n",
    "print()\n",
    "print(player2)\n",
    "print(player2.name)\n",
    "print(player2.age)\n",
    "player2.run()"
   ]
  },
  {
   "cell_type": "markdown",
   "metadata": {},
   "source": [
    "Attributes and Methods"
   ]
  },
  {
   "cell_type": "code",
   "execution_count": 3,
   "metadata": {},
   "outputs": [
    {
     "name": "stdout",
     "output_type": "stream",
     "text": [
      "Help on PlayerCharacter in module __main__ object:\n",
      "\n",
      "class PlayerCharacter(builtins.object)\n",
      " |  PlayerCharacter(name, age)\n",
      " |  \n",
      " |  Methods defined here:\n",
      " |  \n",
      " |  __init__(self, name, age)\n",
      " |      Initialize self.  See help(type(self)) for accurate signature.\n",
      " |  \n",
      " |  run(self)\n",
      " |  \n",
      " |  ----------------------------------------------------------------------\n",
      " |  Data descriptors defined here:\n",
      " |  \n",
      " |  __dict__\n",
      " |      dictionary for instance variables\n",
      " |  \n",
      " |  __weakref__\n",
      " |      list of weak references to the object\n",
      "\n"
     ]
    }
   ],
   "source": [
    "help(player1)"
   ]
  },
  {
   "cell_type": "markdown",
   "metadata": {},
   "source": [
    "`__dict__` to see all attributes"
   ]
  },
  {
   "cell_type": "code",
   "execution_count": 4,
   "metadata": {},
   "outputs": [
    {
     "name": "stdout",
     "output_type": "stream",
     "text": [
      "{'name': 'James', 'age': 42}\n",
      "{'name': 'Tom', 'age': 23}\n"
     ]
    }
   ],
   "source": [
    "print(player1.__dict__)\n",
    "print(player2.__dict__)"
   ]
  },
  {
   "cell_type": "code",
   "execution_count": 5,
   "metadata": {},
   "outputs": [
    {
     "name": "stdout",
     "output_type": "stream",
     "text": [
      "None\n"
     ]
    }
   ],
   "source": [
    "print(player1.__weakref__)"
   ]
  },
  {
   "cell_type": "markdown",
   "metadata": {},
   "source": [
    "Object Attributes"
   ]
  },
  {
   "cell_type": "code",
   "execution_count": 6,
   "metadata": {},
   "outputs": [],
   "source": [
    "# create the class\n",
    "class PlayerCharacter():\n",
    "\n",
    "    membership = True # class object attribute, meaning it is the same for all instances\n",
    "\n",
    "    # NOTE: you can only call PlayerCharacter.membership for object attributes\n",
    "    \n",
    "    def __init__(self, name, age):\n",
    "            \n",
    "        if PlayerCharacter.membership: # you can also use self.membership\n",
    "            self.name = name\n",
    "            self.age = age # you can't use PlayerCharacter.age because it is not an object attribute\n",
    "\n",
    "    def shout_name(self):\n",
    "        print(f'My name is {self.name}!')\n",
    "\n",
    "# instantiate the class\n",
    "player1 = PlayerCharacter(name='James', age=42)\n",
    "player2 = PlayerCharacter(name='Tom', age=23)"
   ]
  },
  {
   "cell_type": "code",
   "execution_count": 7,
   "metadata": {},
   "outputs": [
    {
     "data": {
      "text/plain": [
       "True"
      ]
     },
     "execution_count": 7,
     "metadata": {},
     "output_type": "execute_result"
    }
   ],
   "source": [
    "player1.membership"
   ]
  },
  {
   "cell_type": "code",
   "execution_count": 8,
   "metadata": {},
   "outputs": [
    {
     "name": "stdout",
     "output_type": "stream",
     "text": [
      "My name is James!\n",
      "My name is Tom!\n"
     ]
    }
   ],
   "source": [
    "player1.shout_name()\n",
    "player2.shout_name()"
   ]
  },
  {
   "cell_type": "markdown",
   "metadata": {},
   "source": [
    "`__init__`"
   ]
  },
  {
   "cell_type": "code",
   "execution_count": 9,
   "metadata": {},
   "outputs": [
    {
     "data": {
      "text/plain": [
       "{'name': 'Tav', 'age': 18}"
      ]
     },
     "execution_count": 9,
     "metadata": {},
     "output_type": "execute_result"
    }
   ],
   "source": [
    "class PlayerCharacter():\n",
    "    \n",
    "    # can set default variables\n",
    "    def __init__(self, name='Tav', age=18):\n",
    "            self.name = name\n",
    "            self.age = age # you can't use PlayerCharacter.age because it is not an object attribute\n",
    "\n",
    "    def shout_name(self):\n",
    "        print(f'My name is {self.name}!')\n",
    "\n",
    "# instantiate the class\n",
    "player1 = PlayerCharacter()\n",
    "player1.__dict__"
   ]
  },
  {
   "cell_type": "markdown",
   "metadata": {},
   "source": [
    "## Cats OOP Exercise"
   ]
  },
  {
   "cell_type": "markdown",
   "metadata": {},
   "source": [
    "Start"
   ]
  },
  {
   "cell_type": "code",
   "execution_count": 10,
   "metadata": {},
   "outputs": [],
   "source": [
    "#Given the below class:\n",
    "class Cat:\n",
    "    species = 'mammal'\n",
    "    def __init__(self, name, age):\n",
    "        self.name = name\n",
    "        self.age = age\n",
    "\n",
    "\n",
    "# 1 Instantiate the Cat object with 3 cats\n",
    "\n",
    "\n",
    "\n",
    "# 2 Create a function that finds the oldest cat\n",
    "\n",
    "\n",
    "\n",
    "# 3 Print out: \"The oldest cat is x years old.\". x will be the oldest cat age by using the function in #2"
   ]
  },
  {
   "cell_type": "markdown",
   "metadata": {},
   "source": [
    "My Solution (no Copilot assistance)"
   ]
  },
  {
   "cell_type": "code",
   "execution_count": 11,
   "metadata": {},
   "outputs": [
    {
     "name": "stdout",
     "output_type": "stream",
     "text": [
      "Oldest cat is Oreo who is 15 years old.\n"
     ]
    }
   ],
   "source": [
    "#Given the below class:\n",
    "class Cat:\n",
    "    species = 'mammal'\n",
    "    def __init__(self, name, age):\n",
    "        self.name = name\n",
    "        self.age = age\n",
    "\n",
    "# Create a function that finds the oldest cat\n",
    "def oldest_cat(*cats):   \n",
    "    \n",
    "    oldest_cat = {\n",
    "        'name': cats[0].name,\n",
    "        'age': cats[0].age\n",
    "    }\n",
    "    \n",
    "    for cat in cats:\n",
    "        if cat.age > oldest_cat['age']:\n",
    "            oldest_cat = {\n",
    "                'name': cat.name,\n",
    "                'age': cat.age\n",
    "            }\n",
    "\n",
    "    print(f\"Oldest cat is {oldest_cat['name']} who is {oldest_cat['age']} years old.\")\n",
    "\n",
    "# Instantiate the Cat object with 5 cats\n",
    "cat1 = Cat(name='Estrella', age=3)\n",
    "cat2 = Cat(name='Oreo', age=15)\n",
    "cat3 = Cat(name='Merigold', age=9)\n",
    "cat4 = Cat(name='Pookie', age=2)\n",
    "cat5 = Cat(name='Whiskers', age=4)\n",
    "\n",
    "# 3 Print out: \"The oldest cat is x years old.\". x will be the oldest cat age by using the function in #2\n",
    "oldest_cat(cat1, cat2, cat3, cat4, cat5)"
   ]
  },
  {
   "cell_type": "markdown",
   "metadata": {},
   "source": [
    "Copilot Suggestions\n",
    "- For the function, it suggested I use `lambda` which I don't understand very well."
   ]
  },
  {
   "cell_type": "code",
   "execution_count": 12,
   "metadata": {},
   "outputs": [
    {
     "name": "stdout",
     "output_type": "stream",
     "text": [
      "The oldest cat is Oreo who is 15 years old.\n"
     ]
    }
   ],
   "source": [
    "#Given the below class:\n",
    "class Cat:\n",
    "    species = 'mammal'\n",
    "    def __init__(self, name, age):\n",
    "        self.name = name\n",
    "        self.age = age\n",
    "\n",
    "# Create a function that finds the oldest cat\n",
    "def oldest_cat(*cats):\n",
    "    # Use the max function with a custom key to find the oldest cat\n",
    "    oldest = max(cats, key=lambda cat: cat.age)\n",
    "    print(f\"The oldest cat is {oldest.name} who is {oldest.age} years old.\")\n",
    "\n",
    "# Instantiate the Cat object with 5 cats\n",
    "cat1 = Cat(name='Estrella', age=3)\n",
    "cat2 = Cat(name='Oreo', age=15)\n",
    "cat3 = Cat(name='Merigold', age=9)\n",
    "cat4 = Cat(name='Pookie', age=2)\n",
    "cat5 = Cat(name='Whiskers', age=4)\n",
    "\n",
    "# Print out: \"The oldest cat is x years old.\". x will be the oldest cat age by using the function in #2\n",
    "oldest_cat(cat1, cat2, cat3, cat4, cat5)"
   ]
  },
  {
   "cell_type": "markdown",
   "metadata": {},
   "source": [
    "Official Solution\n",
    "- I could've made it easier I gues with just putting the `cat.age` inside the fucntion and use `max()`.\n",
    "- But that's too easy."
   ]
  },
  {
   "cell_type": "code",
   "execution_count": 13,
   "metadata": {},
   "outputs": [
    {
     "name": "stdout",
     "output_type": "stream",
     "text": [
      "Oldest Cat is 7 years old.\n"
     ]
    }
   ],
   "source": [
    "# Exercise Cats Everywhere\n",
    "\n",
    "# Given the below class:\n",
    "\n",
    "class Cat:\n",
    "    species = 'mammal'\n",
    "\n",
    "    def __init__(self, name, age):\n",
    "        self.name = name\n",
    "        self.age = age\n",
    "\n",
    "#Answers:\n",
    "# 1 Instantiate the Cat object with 3 cats.\n",
    "cat1 = Cat('cat1', 5)\n",
    "cat2 = Cat('Cat2', 7)\n",
    "cat3 = Cat('Cat3', 3)\n",
    "\n",
    "\n",
    "# 2 Create a function that finds the oldest cat.\n",
    "def oldest_cat(*args):\n",
    "    return max(args)\n",
    "\n",
    "\n",
    "# 3 Print out: \"The oldest cat is x years old.\".\n",
    "# x will be the oldest cat age by using the function in #2\n",
    "print(f'Oldest Cat is {oldest_cat(cat1.age, cat2.age, cat3.age)} years old.')"
   ]
  },
  {
   "cell_type": "markdown",
   "metadata": {},
   "source": [
    "`@classmethod`\n",
    "\n",
    "This allows you to call an object function just using the class name.\n",
    "You don't need to instantiate a new object.\n",
    "\n",
    "`PlayerCharacter().newfunction()`"
   ]
  },
  {
   "cell_type": "code",
   "execution_count": 14,
   "metadata": {},
   "outputs": [],
   "source": [
    "class PlayerCharacter():\n",
    "\n",
    "    membership = True\n",
    "    \n",
    "    def __init__(self, name, age):\n",
    "            \n",
    "        if PlayerCharacter.membership:\n",
    "            self.name = name\n",
    "            self.age = age\n",
    "\n",
    "    def shout_name(self):\n",
    "        print(f'My name is {self.name}!')\n",
    "\n",
    "    @classmethod\n",
    "    def adding_things(cls, num1, num2):\n",
    "        # return num1 + num2 \n",
    "        \n",
    "        \n",
    "        # creates a new object with the following stats.\n",
    "        # this avoids the player3 = PlayerCharacter('New Player', age)\n",
    "        # instead, you can create an object like this:\n",
    "        # PlayerCharacter.adding_things('NewPlayer', age)\n",
    "        return cls('New Player', num1 + num2)\n",
    "\n",
    "player1 = PlayerCharacter(name='James', age=42)\n",
    "player2 = PlayerCharacter(name='Tom', age=23)"
   ]
  },
  {
   "cell_type": "code",
   "execution_count": 15,
   "metadata": {},
   "outputs": [
    {
     "data": {
      "text/plain": [
       "<__main__.PlayerCharacter at 0x26d71f35510>"
      ]
     },
     "execution_count": 15,
     "metadata": {},
     "output_type": "execute_result"
    }
   ],
   "source": [
    "PlayerCharacter.adding_things(player1.age, player2.age)"
   ]
  },
  {
   "cell_type": "markdown",
   "metadata": {},
   "source": [
    "`@staticmethod`"
   ]
  },
  {
   "cell_type": "code",
   "execution_count": 16,
   "metadata": {},
   "outputs": [],
   "source": [
    "class PlayerCharacter():\n",
    "    \"\"\"\n",
    "    PlayerCharacter class represents a player in a game with a name and age.\n",
    "    Attributes:\n",
    "    -----------\n",
    "    membership : bool\n",
    "        A class attribute indicating membership status (default is True).\n",
    "    name : str\n",
    "        The name of the player.\n",
    "    age : int\n",
    "        The age of the player.\n",
    "    Methods:\n",
    "    --------\n",
    "    __init__(self, name, age):\n",
    "        Initializes a new instance of PlayerCharacter with a name and age if membership is True.\n",
    "    shout_name(self):\n",
    "        Prints the player's name.\n",
    "    adding_things(cls, num1, num2):\n",
    "        Class method that creates a new PlayerCharacter instance with a name 'New Player' and age as the sum of num1 and num2.\n",
    "    adding_things2(num1, num2):\n",
    "        Static method that returns the sum of num1 and num2.\n",
    "    \"\"\"\n",
    "\n",
    "    membership = True\n",
    "    \n",
    "    def __init__(self, name, age):\n",
    "            \n",
    "        if PlayerCharacter.membership:\n",
    "            self.name = name\n",
    "            self.age = age\n",
    "\n",
    "    def shout_name(self):\n",
    "        print(f'My name is {self.name}!')\n",
    "\n",
    "    @classmethod\n",
    "    def adding_things(cls, num1, num2):\n",
    "        return cls('New Player', num1 + num2)\n",
    "    \n",
    "    @staticmethod\n",
    "    def adding_things2(num1, num2):\n",
    "        return num1 + num2\n",
    "\n",
    "player1 = PlayerCharacter(name='James', age=42)\n",
    "player2 = PlayerCharacter(name='Tom', age=23)"
   ]
  },
  {
   "cell_type": "markdown",
   "metadata": {},
   "source": [
    "> So the difference between classmethod and staticmethod is that with classmethod, we must create a class, but with staticmethod, it's not necessary?\n",
    "\n",
    "Not exactly. Both `classmethod` and `staticmethod` are used within a class, but they serve different purposes and have different behaviors. Here's a detailed explanation:\n",
    "\n",
    "### `classmethod`\n",
    "\n",
    "- A `classmethod` is a method that receives the class as its first argument, typically named `cls`.\n",
    "- It can be called on the class itself, not just on instances of the class.\n",
    "- It can modify class state that applies across all instances of the class.\n",
    "\n",
    "Example:\n",
    "\n"
   ]
  },
  {
   "cell_type": "code",
   "execution_count": 17,
   "metadata": {},
   "outputs": [
    {
     "name": "stdout",
     "output_type": "stream",
     "text": [
      "1\n"
     ]
    }
   ],
   "source": [
    "class MyClass:\n",
    "    class_variable = 0\n",
    "\n",
    "    @classmethod\n",
    "    def increment_class_variable(cls):\n",
    "        cls.class_variable += 1\n",
    "\n",
    "# Calling the class method\n",
    "MyClass.increment_class_variable()\n",
    "print(MyClass.class_variable)  # Output: 1"
   ]
  },
  {
   "cell_type": "markdown",
   "metadata": {},
   "source": [
    "\n",
    "\n",
    "### `staticmethod`\n",
    "\n",
    "- A `staticmethod` is a method that does not receive an implicit first argument (neither `self` nor `cls`).\n",
    "- It behaves like a regular function but belongs to the class's namespace.\n",
    "- It cannot modify object or class state.\n",
    "- It is used to group functions that have some logical connection with the class.\n",
    "\n",
    "Example:\n",
    "\n"
   ]
  },
  {
   "cell_type": "code",
   "execution_count": 18,
   "metadata": {},
   "outputs": [
    {
     "name": "stdout",
     "output_type": "stream",
     "text": [
      "8\n"
     ]
    }
   ],
   "source": [
    "class MyClass:\n",
    "    @staticmethod\n",
    "    def add(a, b):\n",
    "        return a + b\n",
    "\n",
    "# Calling the static method\n",
    "result = MyClass.add(5, 3)\n",
    "print(result)  # Output: 8"
   ]
  },
  {
   "cell_type": "markdown",
   "metadata": {},
   "source": [
    "\n",
    "\n",
    "### Key Differences\n",
    "\n",
    "- **First Argument**:\n",
    "  - `classmethod`: Receives the class (`cls`) as the first argument.\n",
    "  - `staticmethod`: Does not receive any implicit first argument.\n",
    "  \n",
    "- **Usage**:\n",
    "  - `classmethod`: Used when you need to access or modify the class state.\n",
    "  - `staticmethod`: Used when you need a utility function that logically belongs to the class but does not need to access or modify the class or instance state.\n",
    "\n",
    "In summary, both `classmethod` and `staticmethod` are used within a class, but they serve different purposes. A `classmethod` can access and modify class state, while a `staticmethod` is a utility function that does not depend on class or instance state."
   ]
  },
  {
   "cell_type": "markdown",
   "metadata": {},
   "source": [
    "#### Calculator object using `@staticmethod`\n",
    "\n",
    "Yes, this is a proper use case for static methods. Static methods are used when you need a method that doesn't modify the state of the class or instance and doesn't require access to instance or class-specific data. In this case, the Calculator class methods (add, subtract, multiply, divide) perform operations that don't depend on any instance-specific data. They only use the parameters provided to them.\n",
    "\n",
    "Here's a brief explanation of why static methods are appropriate here:\n",
    "\n",
    "No Instance Data Required: The methods only use the parameters passed to them and don't need to access or modify any instance-specific data.\n",
    "Utility Functions: These methods are utility functions that can be logically grouped within the Calculator class but don't need to be tied to an instance of the class.\n",
    "Here's the code again for reference:"
   ]
  },
  {
   "cell_type": "code",
   "execution_count": 19,
   "metadata": {},
   "outputs": [
    {
     "name": "stdout",
     "output_type": "stream",
     "text": [
      "8\n",
      "2\n",
      "15\n",
      "1.6666666666666667\n"
     ]
    }
   ],
   "source": [
    "class Calculator:\n",
    "    \n",
    "    @staticmethod\n",
    "    def add(a, b):\n",
    "        return a + b\n",
    "    \n",
    "    @staticmethod\n",
    "    def subtract(a, b):\n",
    "        return a - b\n",
    "    \n",
    "    @staticmethod\n",
    "    def multiply(a, b):\n",
    "        return a * b\n",
    "    \n",
    "    @staticmethod\n",
    "    def divide(a, b):\n",
    "        if b == 0:\n",
    "            raise ValueError(\"Cannot divide by zero\")\n",
    "        return a / b\n",
    "\n",
    "# Example usage:\n",
    "result_add = Calculator.add(5, 3)\n",
    "result_subtract = Calculator.subtract(5, 3)\n",
    "result_multiply = Calculator.multiply(5, 3)\n",
    "result_divide = Calculator.divide(5, 3)\n",
    "\n",
    "print(result_add)       # Output: 8\n",
    "print(result_subtract)  # Output: 2\n",
    "print(result_multiply)  # Output: 15\n",
    "print(result_divide)    # Output: 1.6666666666666667"
   ]
  },
  {
   "cell_type": "code",
   "execution_count": 20,
   "metadata": {},
   "outputs": [
    {
     "name": "stdout",
     "output_type": "stream",
     "text": [
      "3\n"
     ]
    }
   ],
   "source": [
    "class Book:\n",
    "    count = 0  # class attribute to keep track of the number of books\n",
    "\n",
    "    def __init__(self, title, author):\n",
    "        self.title = title\n",
    "        self.author = author\n",
    "        Book.count += 1  # increment the count whenever a new book is created\n",
    "\n",
    "    @classmethod\n",
    "    def get_book_count(cls):\n",
    "        return cls.count\n",
    "\n",
    "# Creating instances of Book\n",
    "book1 = Book(\"1984\", \"George Orwell\")\n",
    "book2 = Book(\"To Kill a Mockingbird\", \"Harper Lee\")\n",
    "book3 = Book(\"The Great Gatsby\", \"F. Scott Fitzgerald\")\n",
    "\n",
    "# Using the class method to get the count of books\n",
    "print(Book.get_book_count())  # Output: 3"
   ]
  },
  {
   "cell_type": "markdown",
   "metadata": {},
   "source": [
    "Yes, that's correct. A `classmethod` is used when you need to work with class-level data or perform operations that are related to the class itself rather than any specific instance of the class. Here are some scenarios where you might use a `classmethod`:\n",
    "\n",
    "1. **Modifying Class Variables**: When you need to modify class variables that are shared across all instances of the class.\n",
    "\n",
    "2. **Alternative Constructors**: When you want to provide alternative ways to create instances of the class.\n",
    "\n",
    "3. **Class-Specific Operations**: When you need to perform operations that are logically related to the class as a whole, rather than any particular instance.\n",
    "\n",
    "Here's an example to illustrate these points:\n",
    "\n"
   ]
  },
  {
   "cell_type": "code",
   "execution_count": 21,
   "metadata": {},
   "outputs": [
    {
     "name": "stdout",
     "output_type": "stream",
     "text": [
      "1\n",
      "42\n"
     ]
    }
   ],
   "source": [
    "class MyClass:\n",
    "    class_variable = 0\n",
    "\n",
    "    def __init__(self, value):\n",
    "        self.instance_variable = value\n",
    "\n",
    "    @classmethod\n",
    "    def increment_class_variable(cls):\n",
    "        cls.class_variable += 1\n",
    "\n",
    "    @classmethod\n",
    "    def from_string(cls, value_str):\n",
    "        value = int(value_str)\n",
    "        return cls(value)\n",
    "\n",
    "# Modifying class variables\n",
    "MyClass.increment_class_variable()\n",
    "print(MyClass.class_variable)  # Output: 1\n",
    "\n",
    "# Using an alternative constructor\n",
    "obj = MyClass.from_string(\"42\")\n",
    "print(obj.instance_variable)  # Output: 42"
   ]
  },
  {
   "cell_type": "markdown",
   "metadata": {},
   "source": [
    "\n",
    "\n",
    "In this example:\n",
    "- The `increment_class_variable` method is a `classmethod` that modifies the class variable `class_variable`.\n",
    "- The `from_string` method is a `classmethod` that acts as an alternative constructor, allowing you to create an instance of `MyClass` from a string.\n",
    "\n",
    "By using `classmethod`, you can perform operations that are relevant to the class itself, rather than any specific instance."
   ]
  },
  {
   "cell_type": "markdown",
   "metadata": {},
   "source": [
    "# Developer Fundamentals V"
   ]
  },
  {
   "cell_type": "markdown",
   "metadata": {},
   "source": [
    "Fundamentas of OOP: Inheritance, Encapsulation, Abstraction"
   ]
  },
  {
   "cell_type": "markdown",
   "metadata": {},
   "source": [
    "Private and Publci Variables\n",
    "\n",
    "`_name`, `_age` indicates they are private variables, and please don't touch."
   ]
  },
  {
   "cell_type": "code",
   "execution_count": null,
   "metadata": {},
   "outputs": [],
   "source": [
    "class PlayerCharacter:\n",
    "    def __init__(self, name, age):\n",
    "        self._name = name # _name is a convention to indicate that it's a private variable\n",
    "        self._age = age"
   ]
  },
  {
   "cell_type": "markdown",
   "metadata": {},
   "source": [
    "Inheritance Example"
   ]
  },
  {
   "cell_type": "code",
   "execution_count": 30,
   "metadata": {},
   "outputs": [],
   "source": [
    "class User: # don't need __init__ method because it inherits from User\n",
    "    def sign_in(self):\n",
    "        print('logged in')\n",
    "\n",
    "class Wizard(User): # putting User in the parentheses makes Wizard inherit from User\n",
    "    \n",
    "    def __init__(self, name, power):\n",
    "        self.name = name\n",
    "        self.power = power\n",
    "\n",
    "    def attack(self):\n",
    "        print(f'attacking with power of {self.power}')\n",
    "\n",
    "class Archer(User):\n",
    "    def __init__(self, name, num_arrows):\n",
    "        self.name = name\n",
    "        self.num_arrows = num_arrows\n",
    "\n",
    "    def attack(self):\n",
    "        print(f'attacking with arrows: arrows left: {self.num_arrows}')\n",
    "\n",
    "wizard1 = Wizard('Gandolf', 100)\n",
    "archer1 = Archer('Robin', 50)"
   ]
  },
  {
   "cell_type": "code",
   "execution_count": 31,
   "metadata": {},
   "outputs": [
    {
     "name": "stdout",
     "output_type": "stream",
     "text": [
      "logged in\n",
      "attacking with power of 100\n"
     ]
    }
   ],
   "source": [
    "wizard1.sign_in()\n",
    "wizard1.attack()"
   ]
  },
  {
   "cell_type": "code",
   "execution_count": 32,
   "metadata": {},
   "outputs": [
    {
     "name": "stdout",
     "output_type": "stream",
     "text": [
      "logged in\n",
      "attacking with arrows: arrows left: 50\n"
     ]
    }
   ],
   "source": [
    "archer1.sign_in()\n",
    "archer1.attack()"
   ]
  },
  {
   "cell_type": "markdown",
   "metadata": {},
   "source": [
    "Inheritance 2"
   ]
  },
  {
   "cell_type": "markdown",
   "metadata": {},
   "source": [
    "`isinstance`"
   ]
  },
  {
   "cell_type": "code",
   "execution_count": 37,
   "metadata": {},
   "outputs": [
    {
     "name": "stdout",
     "output_type": "stream",
     "text": [
      "True\n",
      "True\n",
      "True\n"
     ]
    }
   ],
   "source": [
    "print(isinstance(wizard1, Wizard))\n",
    "print(isinstance(wizard1, User))\n",
    "print(isinstance(wizard1, object))"
   ]
  },
  {
   "cell_type": "code",
   "execution_count": 36,
   "metadata": {},
   "outputs": [
    {
     "name": "stdout",
     "output_type": "stream",
     "text": [
      "Help on Wizard in module __main__ object:\n",
      "\n",
      "class Wizard(User)\n",
      " |  Wizard(name, power)\n",
      " |  \n",
      " |  Method resolution order:\n",
      " |      Wizard\n",
      " |      User\n",
      " |      builtins.object\n",
      " |  \n",
      " |  Methods defined here:\n",
      " |  \n",
      " |  __init__(self, name, power)\n",
      " |      Initialize self.  See help(type(self)) for accurate signature.\n",
      " |  \n",
      " |  attack(self)\n",
      " |  \n",
      " |  ----------------------------------------------------------------------\n",
      " |  Methods inherited from User:\n",
      " |  \n",
      " |  sign_in(self)\n",
      " |  \n",
      " |  ----------------------------------------------------------------------\n",
      " |  Data descriptors inherited from User:\n",
      " |  \n",
      " |  __dict__\n",
      " |      dictionary for instance variables\n",
      " |  \n",
      " |  __weakref__\n",
      " |      list of weak references to the object\n",
      "\n"
     ]
    }
   ],
   "source": [
    "help(wizard1)"
   ]
  },
  {
   "cell_type": "markdown",
   "metadata": {},
   "source": [
    "Polymorphism"
   ]
  },
  {
   "cell_type": "code",
   "execution_count": null,
   "metadata": {},
   "outputs": [],
   "source": []
  }
 ],
 "metadata": {
  "kernelspec": {
   "display_name": "Python 3",
   "language": "python",
   "name": "python3"
  },
  "language_info": {
   "codemirror_mode": {
    "name": "ipython",
    "version": 3
   },
   "file_extension": ".py",
   "mimetype": "text/x-python",
   "name": "python",
   "nbconvert_exporter": "python",
   "pygments_lexer": "ipython3",
   "version": "3.11.9"
  }
 },
 "nbformat": 4,
 "nbformat_minor": 2
}
