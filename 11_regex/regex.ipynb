{
 "cells": [
  {
   "cell_type": "markdown",
   "metadata": {},
   "source": [
    "# Regex"
   ]
  },
  {
   "cell_type": "code",
   "execution_count": 47,
   "metadata": {},
   "outputs": [],
   "source": [
    "import re"
   ]
  },
  {
   "cell_type": "code",
   "execution_count": 48,
   "metadata": {},
   "outputs": [],
   "source": [
    "pattern = re.compile('this')\n",
    "string = 'search inside of this text please!'"
   ]
  },
  {
   "cell_type": "code",
   "execution_count": 49,
   "metadata": {},
   "outputs": [
    {
     "name": "stdout",
     "output_type": "stream",
     "text": [
      "True\n"
     ]
    }
   ],
   "source": [
    "print('search' in string)\n"
   ]
  },
  {
   "cell_type": "code",
   "execution_count": 50,
   "metadata": {},
   "outputs": [
    {
     "data": {
      "text/plain": [
       "'this'"
      ]
     },
     "execution_count": 50,
     "metadata": {},
     "output_type": "execute_result"
    }
   ],
   "source": [
    "# search produces a string object\n",
    "a = pattern.search(string)\n",
    "a.group()"
   ]
  },
  {
   "cell_type": "code",
   "execution_count": 51,
   "metadata": {},
   "outputs": [
    {
     "data": {
      "text/plain": [
       "['this']"
      ]
     },
     "execution_count": 51,
     "metadata": {},
     "output_type": "execute_result"
    }
   ],
   "source": [
    "# findall produces a list object\n",
    "b = pattern.findall(string)\n",
    "b\n"
   ]
  },
  {
   "cell_type": "code",
   "execution_count": 52,
   "metadata": {},
   "outputs": [
    {
     "name": "stdout",
     "output_type": "stream",
     "text": [
      "None\n"
     ]
    }
   ],
   "source": [
    "# fullmatch produces a boolean object\n",
    "c = pattern.fullmatch(string)\n",
    "print(c)\n"
   ]
  },
  {
   "cell_type": "code",
   "execution_count": 53,
   "metadata": {},
   "outputs": [
    {
     "name": "stdout",
     "output_type": "stream",
     "text": [
      "None\n",
      "<re.Match object; span=(17, 21), match='this'>\n"
     ]
    }
   ],
   "source": [
    "# match produces a match object\n",
    "d = pattern.match(string)\n",
    "print(d)\n",
    "\n",
    "# search and match are the same\n",
    "e = pattern.search(string)\n",
    "print(e)\n",
    "\n"
   ]
  },
  {
   "cell_type": "markdown",
   "metadata": {},
   "source": [
    "Quick and Dirty Tutorial"
   ]
  },
  {
   "cell_type": "code",
   "execution_count": 54,
   "metadata": {},
   "outputs": [
    {
     "data": {
      "text/plain": [
       "['john@email.com']"
      ]
     },
     "execution_count": 54,
     "metadata": {},
     "output_type": "execute_result"
    }
   ],
   "source": [
    "import re\n",
    "\n",
    "# 1. Basic Pattern Matching\n",
    "pattern = re.compile(r'search_term')  # r'' makes it a raw string - recommended for regex\n",
    "text = \"some text to search through\"\n",
    "\n",
    "# Different ways to search:\n",
    "pattern.search(text)    # Returns first match or None\n",
    "pattern.findall(text)   # Returns list of all matches\n",
    "pattern.match(text)     # Matches only at beginning of string\n",
    "pattern.fullmatch(text) # String must match pattern exactly\n",
    "\n",
    "# 2. Common Patterns\n",
    "r'abc'      # Matches the exact string \"abc\"\n",
    "r'\\d'       # Any digit (0-9)\n",
    "r'\\w'       # Any word character (a-z, A-Z, 0-9, _)\n",
    "r'\\s'       # Any whitespace\n",
    "r'.'        # Any character except newline\n",
    "r'^'        # Start of string\n",
    "r'$'        # End of string\n",
    "\n",
    "# 3. Quantifiers\n",
    "r'*'        # 0 or more\n",
    "r'+'        # 1 or more\n",
    "r'?'        # 0 or 1\n",
    "r'{3}'      # Exactly 3\n",
    "r'{2,4}'    # 2 to 4 times\n",
    "\n",
    "# Examples:\n",
    "phone = re.compile(r'\\d{3}-\\d{3}-\\d{4}')  # matches: 123-456-7890\n",
    "email = re.compile(r'[\\w\\.-]+@[\\w\\.-]+')   # basic email pattern\n",
    "\n",
    "# 4. Real-world example\n",
    "text = \"My phone is 123-456-7890 and email is john@email.com\"\n",
    "phone.findall(text)  # ['123-456-7890']\n",
    "email.findall(text)  # ['john@email.com']"
   ]
  },
  {
   "cell_type": "markdown",
   "metadata": {},
   "source": [
    "I'm gonna skip the rest of this section. I've learned this before and will relearn the details agian if I need to."
   ]
  },
  {
   "cell_type": "code",
   "execution_count": null,
   "metadata": {},
   "outputs": [],
   "source": []
  }
 ],
 "metadata": {
  "kernelspec": {
   "display_name": "venv",
   "language": "python",
   "name": "python3"
  },
  "language_info": {
   "codemirror_mode": {
    "name": "ipython",
    "version": 3
   },
   "file_extension": ".py",
   "mimetype": "text/x-python",
   "name": "python",
   "nbconvert_exporter": "python",
   "pygments_lexer": "ipython3",
   "version": "3.11.9"
  }
 },
 "nbformat": 4,
 "nbformat_minor": 2
}
