{
 "cells": [
  {
   "cell_type": "markdown",
   "metadata": {},
   "source": [
    "# Numbers and Math Functions"
   ]
  },
  {
   "cell_type": "markdown",
   "metadata": {},
   "source": [
    "Int and Float"
   ]
  },
  {
   "cell_type": "code",
   "execution_count": null,
   "metadata": {},
   "outputs": [
    {
     "data": {
      "text/plain": [
       "6 <class 'int'>\n",
       "0.5 <class 'float'>\n"
      ]
     },
     "metadata": {},
     "output_type": "display_data"
    }
   ],
   "source": [
    "print((2+4), type(2+4))\n",
    "print((2/4), type(2 / 4))"
   ]
  },
  {
   "cell_type": "markdown",
   "metadata": {},
   "source": [
    "Exponents, Quotient, Remainder"
   ]
  },
  {
   "cell_type": "code",
   "execution_count": null,
   "metadata": {},
   "outputs": [
    {
     "data": {
      "text/plain": [
       "4\n",
       "1\n",
       "1\n"
      ]
     },
     "metadata": {},
     "output_type": "display_data"
    }
   ],
   "source": [
    "print(2 ** 2)\n",
    "print(5 // 4)\n",
    "print(5 % 4)"
   ]
  },
  {
   "cell_type": "markdown",
   "metadata": {},
   "source": [
    "Round and Absolute"
   ]
  },
  {
   "cell_type": "code",
   "execution_count": null,
   "metadata": {},
   "outputs": [
    {
     "data": {
      "text/plain": [
       "4\n"
      ]
     },
     "metadata": {},
     "output_type": "display_data"
    }
   ],
   "source": [
    "round(3.9)"
   ]
  },
  {
   "cell_type": "code",
   "execution_count": null,
   "metadata": {},
   "outputs": [
    {
     "data": {
      "text/plain": [
       "20\n"
      ]
     },
     "metadata": {},
     "output_type": "display_data"
    }
   ],
   "source": [
    "abs(-20)"
   ]
  },
  {
   "cell_type": "markdown",
   "metadata": {},
   "source": [
    "## Developer Fundamentals I"
   ]
  },
  {
   "cell_type": "code",
   "execution_count": null,
   "metadata": {},
   "outputs": [
    {
     "data": {
      "text/plain": [
       "32\n"
      ]
     },
     "metadata": {},
     "output_type": "display_data"
    }
   ],
   "source": [
    "# Operator Precedence\n",
    "# Follows BEDMAS rules.\n",
    "20 + 3 * 4"
   ]
  },
  {
   "cell_type": "markdown",
   "metadata": {},
   "source": [
    "Exercises"
   ]
  },
  {
   "cell_type": "code",
   "execution_count": null,
   "metadata": {},
   "outputs": [
    {
     "data": {
      "text/plain": [
       "45.0\n",
       "45.0\n",
       "45.0\n",
       "25.0\n",
       "25\n"
      ]
     },
     "metadata": {},
     "output_type": "display_data"
    }
   ],
   "source": [
    "# Guess the output of each answer before you click RUN\n",
    "# Try to write down your answer before and see how you do... keep it mind I made it a little tricky for you :)\n",
    "\n",
    "print((5 + 4) * 10 / 2)\n",
    "# 45\n",
    "\n",
    "\n",
    "print(((5 + 4) * 10) / 2)\n",
    "# 45\n",
    "\n",
    "print((5 + 4) * (10 / 2))\n",
    "# 45\n",
    "\n",
    "print(5 + (4 * 10) / 2)\n",
    "# 25\n",
    "\n",
    "print(5 + 4 * 10 // 2)\n",
    "# 25"
   ]
  },
  {
   "cell_type": "markdown",
   "metadata": {},
   "source": [
    "binary"
   ]
  },
  {
   "cell_type": "code",
   "execution_count": null,
   "metadata": {},
   "outputs": [
    {
     "data": {
      "text/plain": [
       "0b101\n"
      ]
     },
     "metadata": {},
     "output_type": "display_data"
    }
   ],
   "source": [
    "binary = bin(5)"
   ]
  },
  {
   "cell_type": "code",
   "execution_count": null,
   "metadata": {},
   "outputs": [
    {
     "data": {
      "text/plain": [
       "5\n"
      ]
     },
     "metadata": {},
     "output_type": "display_data"
    }
   ],
   "source": [
    "int(str(binary),2)"
   ]
  },
  {
   "cell_type": "code",
   "execution_count": null,
   "metadata": {},
   "outputs": [
    {
     "data": {
      "text/plain": [
       "101\n"
      ]
     },
     "metadata": {},
     "output_type": "display_data"
    }
   ],
   "source": [
    "print(int(new_int))"
   ]
  },
  {
   "cell_type": "markdown",
   "metadata": {},
   "source": [
    "## Variables"
   ]
  },
  {
   "cell_type": "code",
   "execution_count": 1,
   "metadata": {},
   "outputs": [],
   "source": [
    "iq = 150\n",
    "user_age = iq/4"
   ]
  },
  {
   "cell_type": "code",
   "execution_count": 2,
   "metadata": {},
   "outputs": [
    {
     "name": "stdout",
     "output_type": "stream",
     "text": [
      "37.5 150\n"
     ]
    }
   ],
   "source": [
    "print(user_age, iq)"
   ]
  },
  {
   "cell_type": "markdown",
   "metadata": {},
   "source": [
    "Constants"
   ]
  },
  {
   "cell_type": "code",
   "execution_count": 5,
   "metadata": {},
   "outputs": [],
   "source": [
    "# Convention is to capitalize\n",
    "PI = 3.14159"
   ]
  },
  {
   "cell_type": "markdown",
   "metadata": {},
   "source": [
    "Dunder"
   ]
  },
  {
   "cell_type": "code",
   "execution_count": 7,
   "metadata": {},
   "outputs": [
    {
     "name": "stdout",
     "output_type": "stream",
     "text": [
      "Do not touch\n"
     ]
    }
   ],
   "source": [
    "# Dunder Variables\n",
    "__dunder__ = \"Do not touch\"\n",
    "print(__dunder__)"
   ]
  },
  {
   "cell_type": "code",
   "execution_count": 8,
   "metadata": {},
   "outputs": [],
   "source": [
    "a, b, c = 1, 2, 3"
   ]
  },
  {
   "cell_type": "code",
   "execution_count": 9,
   "metadata": {},
   "outputs": [
    {
     "name": "stdout",
     "output_type": "stream",
     "text": [
      "1 2 3\n"
     ]
    }
   ],
   "source": [
    "print(a, b, c)"
   ]
  },
  {
   "cell_type": "markdown",
   "metadata": {},
   "source": [
    "Augmented Assignment Operators"
   ]
  },
  {
   "cell_type": "code",
   "execution_count": 14,
   "metadata": {},
   "outputs": [
    {
     "name": "stdout",
     "output_type": "stream",
     "text": [
      "11\n",
      "10\n",
      "20\n"
     ]
    }
   ],
   "source": [
    "i = 10\n",
    "i += 1\n",
    "print(i)\n",
    "i -= 1\n",
    "print(i)\n",
    "i *= 2\n",
    "print(i)"
   ]
  },
  {
   "cell_type": "markdown",
   "metadata": {},
   "source": [
    "### Strings"
   ]
  },
  {
   "cell_type": "code",
   "execution_count": 15,
   "metadata": {},
   "outputs": [
    {
     "name": "stdout",
     "output_type": "stream",
     "text": [
      "<class 'str'>\n"
     ]
    }
   ],
   "source": [
    "print(type(\"Hello!\"))"
   ]
  },
  {
   "cell_type": "code",
   "execution_count": 17,
   "metadata": {},
   "outputs": [
    {
     "name": "stdout",
     "output_type": "stream",
     "text": [
      "\n",
      "HELLO\n",
      "O   O\n",
      "-----\n",
      "\n"
     ]
    }
   ],
   "source": [
    "username = 'coder'\n",
    "password = 'secret'\n",
    "long_string = '''\n",
    "HELLO\n",
    "O   O\n",
    "-----\n",
    "'''\n",
    "print(long_string)"
   ]
  },
  {
   "cell_type": "code",
   "execution_count": 19,
   "metadata": {},
   "outputs": [
    {
     "name": "stdout",
     "output_type": "stream",
     "text": [
      "James Rooke\n"
     ]
    }
   ],
   "source": [
    "first_name = \"James\"\n",
    "last_name = \"Rooke\"\n",
    "full_name = first_name + ' ' + last_name\n",
    "print(full_name)"
   ]
  },
  {
   "cell_type": "markdown",
   "metadata": {},
   "source": [
    "String Concatenation"
   ]
  },
  {
   "cell_type": "code",
   "execution_count": 21,
   "metadata": {},
   "outputs": [
    {
     "name": "stdout",
     "output_type": "stream",
     "text": [
      "sdafasdfassdafsadffasd\n"
     ]
    }
   ],
   "source": [
    "x = 'sdafasdfas' + 'sdafsadffasd'\n",
    "print(x)"
   ]
  },
  {
   "cell_type": "markdown",
   "metadata": {},
   "source": [
    "Type Conversion"
   ]
  },
  {
   "cell_type": "code",
   "execution_count": 22,
   "metadata": {},
   "outputs": [
    {
     "name": "stdout",
     "output_type": "stream",
     "text": [
      "<class 'str'>\n"
     ]
    }
   ],
   "source": [
    "print(type(str(100)))"
   ]
  },
  {
   "cell_type": "code",
   "execution_count": 23,
   "metadata": {},
   "outputs": [
    {
     "name": "stdout",
     "output_type": "stream",
     "text": [
      "<class 'int'>\n"
     ]
    }
   ],
   "source": [
    "print(type(int(str(100))))"
   ]
  },
  {
   "cell_type": "markdown",
   "metadata": {},
   "source": [
    "Escape Sequences"
   ]
  },
  {
   "cell_type": "code",
   "execution_count": 2,
   "metadata": {},
   "outputs": [
    {
     "name": "stdout",
     "output_type": "stream",
     "text": [
      "It's \tSunny \n",
      "Today.\n"
     ]
    }
   ],
   "source": [
    "weather = 'It\\'s \\tSunny \\nToday.'\n",
    "print(weather)"
   ]
  },
  {
   "cell_type": "markdown",
   "metadata": {},
   "source": [
    "Formatted Strings"
   ]
  },
  {
   "cell_type": "code",
   "execution_count": 15,
   "metadata": {},
   "outputs": [
    {
     "name": "stdout",
     "output_type": "stream",
     "text": [
      "Hello James Rooke.\n",
      "Hello James Rooke.\n",
      "Hello James Rooke.\n",
      "Hello James Rooke.\n",
      "Hello James Rooke.\n"
     ]
    }
   ],
   "source": [
    "\"\"\"\n",
    "This script demonstrates different ways to format and print strings in Python.\n",
    "Variables:\n",
    "    fname (str): The first name to be used in the greeting.\n",
    "    lname (str): The last name to be used in the greeting.\n",
    "Prints:\n",
    "    A greeting message using different string formatting methods:\n",
    "    - f-string\n",
    "    - %-formatting\n",
    "    - str.format() method\n",
    "    - str.format() method with named placeholders\n",
    "\"\"\"\n",
    "\n",
    "fname = 'James'\n",
    "lname = 'Rooke'\n",
    "\n",
    "print(\"Hello \" + fname + \" \" + lname + \".\")\n",
    "print(f\"Hello {fname} {lname}.\")\n",
    "print(\"Hello %s %s.\" % (fname, lname))\n",
    "print(\"Hello {} {}.\".format(fname, lname))\n",
    "print(\"Hello {str1} {str2}.\".format(str1=fname, str2=lname))"
   ]
  },
  {
   "cell_type": "markdown",
   "metadata": {},
   "source": [
    "String Indexes"
   ]
  },
  {
   "cell_type": "code",
   "execution_count": 27,
   "metadata": {},
   "outputs": [
    {
     "name": "stdout",
     "output_type": "stream",
     "text": [
      "7\n",
      "01\n",
      "0246\n",
      "7531\n"
     ]
    }
   ],
   "source": [
    "#  01234567\n",
    "# 'me me me'\\\n",
    "\n",
    "num_seq = '01234567'\n",
    "print(num_seq[7])\n",
    "print(num_seq[0:2])\n",
    "print(num_seq[0:8:2])\n",
    "print(num_seq[::-2])"
   ]
  },
  {
   "cell_type": "markdown",
   "metadata": {},
   "source": [
    "Immutability"
   ]
  },
  {
   "cell_type": "code",
   "execution_count": 30,
   "metadata": {},
   "outputs": [
    {
     "ename": "TypeError",
     "evalue": "'str' object does not support item assignment",
     "output_type": "error",
     "traceback": [
      "\u001b[1;31m---------------------------------------------------------------------------\u001b[0m",
      "\u001b[1;31mTypeError\u001b[0m                                 Traceback (most recent call last)",
      "Cell \u001b[1;32mIn[30], line 3\u001b[0m\n\u001b[0;32m      1\u001b[0m \u001b[38;5;66;03m# Can't do this.\u001b[39;00m\n\u001b[0;32m      2\u001b[0m num_seq \u001b[38;5;241m=\u001b[39m \u001b[38;5;124m'\u001b[39m\u001b[38;5;124m01234567\u001b[39m\u001b[38;5;124m'\u001b[39m\n\u001b[1;32m----> 3\u001b[0m \u001b[43mnum_seq\u001b[49m\u001b[43m[\u001b[49m\u001b[38;5;241;43m0\u001b[39;49m\u001b[43m]\u001b[49m \u001b[38;5;241m=\u001b[39m \u001b[38;5;124m'\u001b[39m\u001b[38;5;124m1\u001b[39m\u001b[38;5;124m'\u001b[39m\n",
      "\u001b[1;31mTypeError\u001b[0m: 'str' object does not support item assignment"
     ]
    }
   ],
   "source": [
    "# Can't do this.\n",
    "num_seq = '01234567'\n",
    "num_seq[0] = '1'"
   ]
  },
  {
   "cell_type": "code",
   "execution_count": 31,
   "metadata": {},
   "outputs": [
    {
     "data": {
      "text/plain": [
       "'012345678'"
      ]
     },
     "execution_count": 31,
     "metadata": {},
     "output_type": "execute_result"
    }
   ],
   "source": [
    "num_seq += '8'\n",
    "num_seq"
   ]
  },
  {
   "cell_type": "markdown",
   "metadata": {},
   "source": [
    "Built In Functions"
   ]
  },
  {
   "cell_type": "code",
   "execution_count": 34,
   "metadata": {},
   "outputs": [
    {
     "name": "stdout",
     "output_type": "stream",
     "text": [
      "9\n",
      "012345678\n"
     ]
    }
   ],
   "source": [
    "# len() function\n",
    "print(len(num_seq))\n",
    "print(num_seq[:len(num_seq)])"
   ]
  },
  {
   "cell_type": "code",
   "execution_count": 39,
   "metadata": {},
   "outputs": [
    {
     "name": "stdout",
     "output_type": "stream",
     "text": [
      "TO BE OR NOT TO BE\n",
      "To be or not to be\n",
      "to be or not to be\n"
     ]
    }
   ],
   "source": [
    "quote = 'to be or not to be'\n",
    "\n",
    "# upper() method\n",
    "print(quote.upper())\n",
    "\n",
    "# capitalize() method\n",
    "print(quote.capitalize())\n",
    "\n",
    "# find() method\n",
    "quote.find('be')\n",
    "\n",
    "# replace() method\n",
    "quote.replace('be', 'me') # strings are immutable, so this doesn't change the original string.\n",
    "\n",
    "print(quote)"
   ]
  },
  {
   "cell_type": "markdown",
   "metadata": {},
   "source": [
    "booleans"
   ]
  },
  {
   "cell_type": "code",
   "execution_count": 44,
   "metadata": {},
   "outputs": [],
   "source": [
    "name = 'James'\n",
    "is_huge = True\n",
    "is_huge = not False\n",
    "is_huge = not True"
   ]
  },
  {
   "cell_type": "code",
   "execution_count": 45,
   "metadata": {},
   "outputs": [
    {
     "data": {
      "text/plain": [
       "False"
      ]
     },
     "execution_count": 45,
     "metadata": {},
     "output_type": "execute_result"
    }
   ],
   "source": [
    "is_huge"
   ]
  },
  {
   "cell_type": "code",
   "execution_count": 46,
   "metadata": {},
   "outputs": [
    {
     "name": "stdout",
     "output_type": "stream",
     "text": [
      "True\n"
     ]
    }
   ],
   "source": [
    "print(bool('True'))"
   ]
  },
  {
   "cell_type": "markdown",
   "metadata": {},
   "source": [
    "Type Conversion"
   ]
  },
  {
   "cell_type": "code",
   "execution_count": 47,
   "metadata": {},
   "outputs": [
    {
     "name": "stdout",
     "output_type": "stream",
     "text": [
      "in a relationship\n"
     ]
    }
   ],
   "source": [
    "name = 'James Rooke'\n",
    "age = 42\n",
    "relationship_status = 'in a relationship'\n",
    "\n",
    "print(relationship_status)"
   ]
  },
  {
   "cell_type": "code",
   "execution_count": 52,
   "metadata": {},
   "outputs": [
    {
     "name": "stdout",
     "output_type": "stream",
     "text": [
      "1982\n"
     ]
    }
   ],
   "source": [
    "birth_year = input('What year were you born? ')\n",
    "print(birth_year)"
   ]
  },
  {
   "cell_type": "code",
   "execution_count": 53,
   "metadata": {},
   "outputs": [
    {
     "name": "stdout",
     "output_type": "stream",
     "text": [
      "You will be 43 years old in 2025.\n"
     ]
    }
   ],
   "source": [
    "age = 2025 - int(birth_year)\n",
    "print(f'You will be {age} years old in 2025.')"
   ]
  },
  {
   "cell_type": "markdown",
   "metadata": {},
   "source": [
    "## Developer Fundamentals II"
   ]
  },
  {
   "cell_type": "markdown",
   "metadata": {},
   "source": [
    "Commenting Your Code"
   ]
  },
  {
   "cell_type": "code",
   "execution_count": 56,
   "metadata": {},
   "outputs": [],
   "source": [
    "# comment like this\n",
    "# remember that code should be self-explanatory\n",
    "# if you need to explain it, you should refactor it\n",
    "\n",
    "'''\n",
    "Multi-line comments are done\n",
    "like this line right here.\n",
    "'''"
   ]
  },
  {
   "cell_type": "markdown",
   "metadata": {},
   "source": [
    "### Exercise: Password Checker"
   ]
  },
  {
   "cell_type": "code",
   "execution_count": 68,
   "metadata": {},
   "outputs": [],
   "source": [
    "username = input('username: ')\n",
    "password = input('password: ')\n",
    "password_length = len(password)"
   ]
  },
  {
   "cell_type": "code",
   "execution_count": 70,
   "metadata": {},
   "outputs": [
    {
     "name": "stdout",
     "output_type": "stream",
     "text": [
      "Your username is JamesRooke \n",
      "Your password is ******,\n",
      "It's 6 characters long.\n"
     ]
    }
   ],
   "source": [
    "print(f\"Your username is {username} \\n\"\n",
    "      f\"Your password is {password_length * '*'},\\n\" \n",
    "      f\"It's {password_length} characters long.\")"
   ]
  },
  {
   "cell_type": "markdown",
   "metadata": {},
   "source": [
    "Magic Command for all variales in session."
   ]
  },
  {
   "cell_type": "code",
   "execution_count": 72,
   "metadata": {},
   "outputs": [
    {
     "name": "stdout",
     "output_type": "stream",
     "text": [
      "age\t birth_year\t fname\t is_huge\t lname\t name\t num_seq\t numbers\t password\t \n",
      "password_length\t quote\t relationship_status\t selfish\t username\t weather\t \n"
     ]
    }
   ],
   "source": [
    "%who"
   ]
  },
  {
   "cell_type": "markdown",
   "metadata": {},
   "source": [
    "More detailed list."
   ]
  },
  {
   "cell_type": "code",
   "execution_count": 74,
   "metadata": {},
   "outputs": [
    {
     "name": "stdout",
     "output_type": "stream",
     "text": [
      "Variable              Type    Data/Info\n",
      "---------------------------------------\n",
      "age                   int     43\n",
      "birth_year            str     1982\n",
      "fname                 str     James\n",
      "is_huge               bool    False\n",
      "lname                 str     Rooke\n",
      "name                  str     James Rooke\n",
      "num_seq               str     012345678\n",
      "numbers               str     01234567\n",
      "password              str     secret\n",
      "password_length       int     6\n",
      "quote                 str     to be or not to be\n",
      "relationship_status   str     in a relationship\n",
      "selfish               str     01234567\n",
      "username              str     JamesRooke\n",
      "weather               str     It's \tSunny \\nToday.\n"
     ]
    }
   ],
   "source": [
    "%whos"
   ]
  },
  {
   "cell_type": "code",
   "execution_count": 75,
   "metadata": {},
   "outputs": [
    {
     "data": {
      "text/plain": [
       "['age',\n",
       " 'birth_year',\n",
       " 'fname',\n",
       " 'is_huge',\n",
       " 'lname',\n",
       " 'name',\n",
       " 'num_seq',\n",
       " 'numbers',\n",
       " 'password',\n",
       " 'password_length',\n",
       " 'quote',\n",
       " 'relationship_status',\n",
       " 'selfish',\n",
       " 'username',\n",
       " 'weather']"
      ]
     },
     "execution_count": 75,
     "metadata": {},
     "output_type": "execute_result"
    }
   ],
   "source": [
    "variable_list = %who_ls\n",
    "variable_list"
   ]
  },
  {
   "cell_type": "code",
   "execution_count": 76,
   "metadata": {},
   "outputs": [
    {
     "name": "stdout",
     "output_type": "stream",
     "text": [
      "age\n",
      "birth_year\n",
      "fname\n",
      "is_huge\n",
      "lname\n",
      "name\n",
      "num_seq\n",
      "numbers\n",
      "password\n",
      "password_length\n",
      "quote\n",
      "relationship_status\n",
      "selfish\n",
      "username\n",
      "weather\n"
     ]
    }
   ],
   "source": [
    "for each in variable_list:\n",
    "    print(each)"
   ]
  },
  {
   "cell_type": "markdown",
   "metadata": {},
   "source": [
    "### Lists"
   ]
  },
  {
   "cell_type": "code",
   "execution_count": 78,
   "metadata": {},
   "outputs": [
    {
     "name": "stdout",
     "output_type": "stream",
     "text": [
      "1\n",
      "2\n",
      "3.5\n",
      "<class 'str'>\n",
      "b\n",
      "c\n",
      "True\n",
      "False\n"
     ]
    }
   ],
   "source": [
    "li = [1, 2, 3, 4, 5]\n",
    "li2 = ['a', 'b', 'c', 'd', 'e']\n",
    "li3 = [1, 2, 3.5, type('a'), 'b', 'c', True, False]\n",
    "\n",
    "for each in li3:\n",
    "    print(each)"
   ]
  },
  {
   "cell_type": "markdown",
   "metadata": {},
   "source": [
    "List Slicing"
   ]
  },
  {
   "cell_type": "code",
   "execution_count": 80,
   "metadata": {},
   "outputs": [],
   "source": [
    "amazon_cart = [\n",
    "    'notebooks', \n",
    "    'sunglasses', \n",
    "    'toys', \n",
    "    'grapes'\n",
    "]"
   ]
  },
  {
   "cell_type": "code",
   "execution_count": 82,
   "metadata": {},
   "outputs": [
    {
     "name": "stdout",
     "output_type": "stream",
     "text": [
      "['sunglasses', 'toys']\n"
     ]
    }
   ],
   "source": [
    "print(amazon_cart[1:3])"
   ]
  },
  {
   "cell_type": "markdown",
   "metadata": {},
   "source": [
    "Lists are mutable."
   ]
  },
  {
   "cell_type": "code",
   "execution_count": 84,
   "metadata": {},
   "outputs": [
    {
     "name": "stdout",
     "output_type": "stream",
     "text": [
      "['laptop', 'sunglasses', 'toys', 'grapes']\n"
     ]
    }
   ],
   "source": [
    "amazon_cart[0] = 'laptop'\n",
    "print(amazon_cart)"
   ]
  },
  {
   "cell_type": "code",
   "execution_count": 85,
   "metadata": {},
   "outputs": [
    {
     "name": "stdout",
     "output_type": "stream",
     "text": [
      "['gum', 'sunglasses', 'toys', 'grapes']\n"
     ]
    }
   ],
   "source": [
    "new_cart = amazon_cart[:]\n",
    "new_cart[0] = 'gum'\n",
    "print(new_cart)"
   ]
  },
  {
   "cell_type": "markdown",
   "metadata": {},
   "source": [
    "Matrix"
   ]
  },
  {
   "cell_type": "code",
   "execution_count": 89,
   "metadata": {},
   "outputs": [
    {
     "name": "stdout",
     "output_type": "stream",
     "text": [
      "[[1, 2, 3], [4, 5, 6], [7, 8, 9]]\n",
      "[1, 2, 3]\n",
      "3\n"
     ]
    }
   ],
   "source": [
    "matrix = [\n",
    "    [1, 2, 3],\n",
    "    [4, 5, 6],\n",
    "    [7, 8, 9]\n",
    "]\n",
    "\n",
    "print(matrix)\n",
    "print(matrix[0])\n",
    "print(matrix[0][2])"
   ]
  },
  {
   "cell_type": "markdown",
   "metadata": {},
   "source": [
    "List Methods"
   ]
  },
  {
   "cell_type": "code",
   "execution_count": 116,
   "metadata": {},
   "outputs": [
    {
     "name": "stdout",
     "output_type": "stream",
     "text": [
      "basket: [1, 2, 3, 4, 5]\n"
     ]
    }
   ],
   "source": [
    "basket = [1, 2, 3, 4, 5]\n",
    "print(f'basket: {basket}')"
   ]
  },
  {
   "cell_type": "code",
   "execution_count": 117,
   "metadata": {},
   "outputs": [
    {
     "name": "stdout",
     "output_type": "stream",
     "text": [
      "basket: [1, 2, 3, 4, 5, 6]\n"
     ]
    }
   ],
   "source": [
    "# adding\n",
    "basket.append(6)\n",
    "print(f'basket: {basket}')"
   ]
  },
  {
   "cell_type": "code",
   "execution_count": 118,
   "metadata": {},
   "outputs": [
    {
     "name": "stdout",
     "output_type": "stream",
     "text": [
      "basket: [1, 2, 3, 4, 'INSERT', 5, 6]\n"
     ]
    }
   ],
   "source": [
    "basket.insert(4, \"INSERT\")\n",
    "print(f'basket: {basket}')"
   ]
  },
  {
   "cell_type": "code",
   "execution_count": 119,
   "metadata": {},
   "outputs": [
    {
     "name": "stdout",
     "output_type": "stream",
     "text": [
      "basket: [1, 2, 3, 4, 'INSERT', 5, 6, 7, 8, 9]\n"
     ]
    }
   ],
   "source": [
    "basket.extend([7, 8, 9])\n",
    "print(f'basket: {basket}')  "
   ]
  },
  {
   "cell_type": "code",
   "execution_count": 120,
   "metadata": {},
   "outputs": [
    {
     "name": "stdout",
     "output_type": "stream",
     "text": [
      "basket: [1, 2, 3, 4, 'INSERT', 5, 6, 7, 8]\n"
     ]
    }
   ],
   "source": [
    "# removing\n",
    "basket.pop() # whatever is at the end of the list\n",
    "print(f'basket: {basket}')"
   ]
  },
  {
   "cell_type": "code",
   "execution_count": 121,
   "metadata": {},
   "outputs": [
    {
     "name": "stdout",
     "output_type": "stream",
     "text": [
      "basket: [1, 2, 3, 'INSERT', 5, 6, 7, 8]\n"
     ]
    }
   ],
   "source": [
    "basket.remove(4) # removes the first instance of the value\n",
    "print(f'basket: {basket}')"
   ]
  },
  {
   "cell_type": "code",
   "execution_count": 122,
   "metadata": {},
   "outputs": [
    {
     "name": "stdout",
     "output_type": "stream",
     "text": [
      "basket: [1, 3, 'INSERT', 5, 6, 7, 8]\n",
      "item: 2\n"
     ]
    }
   ],
   "source": [
    "item = basket.pop(1)\n",
    "print(f'basket: {basket}')\n",
    "print(f'item: {item}')"
   ]
  },
  {
   "cell_type": "code",
   "execution_count": 123,
   "metadata": {},
   "outputs": [
    {
     "name": "stdout",
     "output_type": "stream",
     "text": [
      "basket: []\n"
     ]
    }
   ],
   "source": [
    "basket.clear()\n",
    "print(f'basket: {basket}')"
   ]
  },
  {
   "cell_type": "markdown",
   "metadata": {},
   "source": [
    "List Methods 2"
   ]
  },
  {
   "cell_type": "code",
   "execution_count": null,
   "metadata": {},
   "outputs": [],
   "source": []
  }
 ],
 "metadata": {
  "kernelspec": {
   "display_name": "Python 3",
   "language": "python",
   "name": "python3"
  },
  "language_info": {
   "codemirror_mode": {
    "name": "ipython",
    "version": 3
   },
   "file_extension": ".py",
   "mimetype": "text/x-python",
   "name": "python",
   "nbconvert_exporter": "python",
   "pygments_lexer": "ipython3",
   "version": "3.11.9"
  }
 },
 "nbformat": 4,
 "nbformat_minor": 2
}
