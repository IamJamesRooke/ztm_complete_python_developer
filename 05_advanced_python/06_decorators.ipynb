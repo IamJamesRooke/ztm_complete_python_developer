{
 "cells": [
  {
   "cell_type": "markdown",
   "metadata": {},
   "source": [
    "# Decorators"
   ]
  },
  {
   "cell_type": "code",
   "execution_count": null,
   "metadata": {},
   "outputs": [],
   "source": [
    "@classmethod\n",
    "@staticmethod"
   ]
  },
  {
   "cell_type": "markdown",
   "metadata": {},
   "source": [
    "`@classmethod` review"
   ]
  },
  {
   "cell_type": "code",
   "execution_count": 1,
   "metadata": {},
   "outputs": [],
   "source": [
    "class Date:\n",
    "    def __init__(self, year, month, day):\n",
    "        self.year = year\n",
    "        self.month = month\n",
    "        self.day = day\n",
    "    \n",
    "    @classmethod\n",
    "    def from_string(cls, date_string):\n",
    "        # Alternative constructor that creates a Date from a string like \"2024-03-20\"\n",
    "        year, month, day = map(int, date_string.split('-'))\n",
    "        return cls(year, month, day)\n",
    "\n",
    "# Two ways to create a Date object:\n",
    "date1 = Date(2024, 3, 20)                  # Using regular constructor\n",
    "date2 = Date.from_string(\"2024-03-20\")     # Using class method"
   ]
  },
  {
   "cell_type": "markdown",
   "metadata": {},
   "source": [
    "My own classmethod"
   ]
  },
  {
   "cell_type": "code",
   "execution_count": 8,
   "metadata": {},
   "outputs": [],
   "source": [
    "class BookShelf:\n",
    "\n",
    "    num_books = 0\n",
    "    booklist = []\n",
    "\n",
    "    @classmethod\n",
    "    def add_book(cls, title, year):\n",
    "        cls.booklist.append((title, year))\n",
    "        cls.num_books += 1\n",
    "\n",
    "shelf1 = BookShelf()\n",
    "\n",
    "shelf1.add_book('All Quiet on the Western Front', 1914)\n",
    "\n",
    "print(f\"Number of Books: {shelf1.num_books}\")\n",
    "\n",
    "for book in shelf1.booklist:\n",
    "    print(book[0])\n"
   ]
  },
  {
   "cell_type": "code",
   "execution_count": 21,
   "metadata": {},
   "outputs": [
    {
     "name": "stdout",
     "output_type": "stream",
     "text": [
      "Total books in library: 3\n"
     ]
    }
   ],
   "source": [
    "class BookShelf:\n",
    "    # Class variable to track all books across all shelves\n",
    "    total_books_in_library = 0\n",
    "    \n",
    "    def __init__(self):\n",
    "        # Instance variables - unique to each shelf\n",
    "        self.books = []\n",
    "        self.num_books = 0\n",
    "    \n",
    "    def add_book(self, title, year):\n",
    "        # Regular instance method\n",
    "        self.books.append((title, year))\n",
    "        self.num_books += 1\n",
    "        BookShelf.total_books_in_library += 1\n",
    "    \n",
    "    @classmethod\n",
    "    def from_book_list(cls, book_list):\n",
    "        # Class method as alternative constructor\n",
    "        shelf = cls()  # Create new instance\n",
    "        for title, year in book_list:\n",
    "            shelf.add_book(title, year)\n",
    "        return shelf\n",
    "    \n",
    "    @classmethod\n",
    "    def get_total_books(cls):\n",
    "        # Class method to access class-level data\n",
    "        return cls.total_books_in_library\n",
    "\n",
    "# Usage:\n",
    "shelf1 = BookShelf()\n",
    "shelf1.add_book('All Quiet on the Western Front', 1914)\n",
    "\n",
    "# Using class method to create new shelf from list\n",
    "books_data = [\n",
    "    ('1984', 1949),\n",
    "    ('Brave New World', 1932)\n",
    "]\n",
    "shelf2 = BookShelf.from_book_list(books_data)\n",
    "\n",
    "print(f\"Total books in library: {BookShelf.get_total_books()}\")  # Shows 3"
   ]
  },
  {
   "cell_type": "markdown",
   "metadata": {},
   "source": [
    "`@staticmethod` review"
   ]
  },
  {
   "cell_type": "code",
   "execution_count": 2,
   "metadata": {},
   "outputs": [
    {
     "data": {
      "text/plain": [
       "False"
      ]
     },
     "execution_count": 2,
     "metadata": {},
     "output_type": "execute_result"
    }
   ],
   "source": [
    "class Calculator:\n",
    "    @staticmethod\n",
    "    def is_valid_number(num):\n",
    "        # Utility method that doesn't need access to class or instance\n",
    "        return isinstance(num, (int, float)) and num >= 0\n",
    "    \n",
    "    def add(self, x, y):\n",
    "        if self.is_valid_number(x) and self.is_valid_number(y):\n",
    "            return x + y\n",
    "        return \"Invalid input\"\n",
    "\n",
    "# Can be called either way:\n",
    "Calculator.is_valid_number(5)      # True\n",
    "calc = Calculator()\n",
    "calc.is_valid_number(-10)         # False"
   ]
  },
  {
   "cell_type": "markdown",
   "metadata": {},
   "source": [
    "My own static method"
   ]
  },
  {
   "cell_type": "code",
   "execution_count": 4,
   "metadata": {},
   "outputs": [
    {
     "name": "stdout",
     "output_type": "stream",
     "text": [
      "3\n",
      "2\n",
      "4\n",
      "5.0\n"
     ]
    }
   ],
   "source": [
    "class Calc:\n",
    "    @staticmethod\n",
    "    def add(x, y):\n",
    "        return x + y    \n",
    "    \n",
    "    @staticmethod\n",
    "    def subtract(x, y):\n",
    "        return x - y   \n",
    "    \n",
    "    @staticmethod\n",
    "    def multiply(x, y):\n",
    "        return x * y\n",
    "    \n",
    "    @staticmethod\n",
    "    def divide(x, y):\n",
    "        if y == 0:\n",
    "            return \"Cannot divide by zero\"\n",
    "        return x / y\n",
    "\n",
    "# Usage:\n",
    "print(Calc.add(1, 2))\n",
    "print(Calc.subtract(4, 2))\n",
    "print(Calc.multiply(2, 2))\n",
    "print(Calc.divide(10, 2))"
   ]
  },
  {
   "cell_type": "markdown",
   "metadata": {},
   "source": [
    "You can assign functions to variables."
   ]
  },
  {
   "cell_type": "code",
   "execution_count": 24,
   "metadata": {},
   "outputs": [
    {
     "name": "stdout",
     "output_type": "stream",
     "text": [
      "Hello!\n"
     ]
    }
   ],
   "source": [
    "def hello():\n",
    "    print(\"Hello!\")\n",
    "\n",
    "greeting = hello\n",
    "greeting()"
   ]
  },
  {
   "cell_type": "markdown",
   "metadata": {},
   "source": [
    "Higher Order Functions"
   ]
  },
  {
   "cell_type": "code",
   "execution_count": 33,
   "metadata": {},
   "outputs": [
    {
     "name": "stdout",
     "output_type": "stream",
     "text": [
      "**********\n",
      "\n",
      "Hello\n",
      "\n",
      "**********\n",
      "**********\n",
      "\n",
      "Bye\n",
      "\n",
      "**********\n"
     ]
    }
   ],
   "source": [
    "def add_stars(func):\n",
    "\n",
    "    def wrap_func():\n",
    "        print('**********\\n')\n",
    "        func()\n",
    "        print('\\n**********')\n",
    "\n",
    "    return wrap_func\n",
    "\n",
    "@add_stars\n",
    "def hello():\n",
    "    print('Hello')\n",
    "\n",
    "@add_stars\n",
    "def bye():\n",
    "    print('Bye')\n",
    "\n",
    "hello()\n",
    "bye()"
   ]
  },
  {
   "cell_type": "code",
   "execution_count": 37,
   "metadata": {},
   "outputs": [
    {
     "name": "stdout",
     "output_type": "stream",
     "text": [
      "**********\n",
      "\n",
      "Hello!\n",
      "\n",
      "**********\n"
     ]
    }
   ],
   "source": [
    "def add_stars(func):\n",
    "    def wrap_func(str):\n",
    "        print('**********\\n')\n",
    "        func(str)\n",
    "        print('\\n**********')\n",
    "    return wrap_func\n",
    "\n",
    "@add_stars\n",
    "def hello(greeting):\n",
    "    print(greeting)\n",
    "\n",
    "hello('Hello!')"
   ]
  },
  {
   "cell_type": "code",
   "execution_count": 38,
   "metadata": {},
   "outputs": [
    {
     "name": "stdout",
     "output_type": "stream",
     "text": [
      "**********\n",
      "\n",
      "Hello!🤤\n",
      "\n",
      "**********\n"
     ]
    }
   ],
   "source": [
    "def add_emoji(func):\n",
    "    def wrap_func(*args, **kwargs):\n",
    "        print('**********\\n')\n",
    "        func(*args, **kwargs)\n",
    "        print('\\n**********')\n",
    "    return wrap_func\n",
    "\n",
    "@add_emoji\n",
    "def hello(greeting, emoji='🤤'):\n",
    "    print(greeting + emoji)\n",
    "\n",
    "hello('Hello!')"
   ]
  },
  {
   "cell_type": "code",
   "execution_count": 42,
   "metadata": {},
   "outputs": [
    {
     "name": "stdout",
     "output_type": "stream",
     "text": [
      "Time Elapsed: 0.0025589466094970703\n"
     ]
    }
   ],
   "source": [
    "# Decorator\n",
    "from time import time\n",
    "def performance(fn):\n",
    "    def wrapper(*args, **kwargs):\n",
    "        time1 = time()\n",
    "        result = fn(*args, **kwargs)\n",
    "        time2 = time()\n",
    "        print(f'Time Elapsed: {time2 - time1}')  # Fixed: time2 - time1 instead of time1 - time2\n",
    "        return result\n",
    "\n",
    "    return wrapper\n",
    "\n",
    "@performance\n",
    "def long_time():\n",
    "    for i in range(100000):\n",
    "        i * 5\n",
    "\n",
    "long_time()  # Added function call to see the output"
   ]
  },
  {
   "cell_type": "markdown",
   "metadata": {},
   "source": [
    "Exercise:"
   ]
  },
  {
   "cell_type": "code",
   "execution_count": 49,
   "metadata": {},
   "outputs": [
    {
     "name": "stdout",
     "output_type": "stream",
     "text": [
      "8\n",
      "8\n",
      "Please provide valid numbers\n",
      "Please provide valid numbers\n"
     ]
    }
   ],
   "source": [
    "# Exercise: Number Validator Decorator\n",
    "#\n",
    "# 1. Create a decorator called 'validate_numbers' that:\n",
    "#    - Checks if both inputs are valid numbers (integers or floats)\n",
    "#    - Returns \"Please provide valid numbers\" if they aren't\n",
    "#    - Runs the original function if they are\n",
    "def validate_numbers(fn):\n",
    "    def wrapper(*args, **kwargs):\n",
    "        for arg in args:\n",
    "            if type(arg) not in (int, float):\n",
    "                return \"Please provide valid numbers\"\n",
    "            else:\n",
    "                return fn(*args, **kwargs)\n",
    "    return wrapper\n",
    "\n",
    "# 2. Create two functions and decorate them with validate_numbers:\n",
    "#    - An 'add' function that adds two numbers\n",
    "#    - A 'multiply' function that multiplies two numbers\n",
    "@validate_numbers\n",
    "def add(num1, num2):\n",
    "    return num1 + num2\n",
    "\n",
    "@validate_numbers\n",
    "def multiply(num1, num2):\n",
    "    return num1 * num2\n",
    "\n",
    "# 3. Test your functions with these cases:\n",
    "#    add(3, 5)         # Should output: 8\n",
    "#    multiply(2, 4)    # Should output: 8\n",
    "#    add(\"hello\", 5)   # Should output: \"Please provide valid numbers\"\n",
    "#    multiply([], 3)   # Should output: \"Please provide valid numbers\"\n",
    "\n",
    "print(add(3, 5))\n",
    "print(multiply(2, 4))\n",
    "print(add('Hello', 5))\n",
    "print(multiply([], 3))\n"
   ]
  },
  {
   "cell_type": "markdown",
   "metadata": {},
   "source": [
    "#### Code Review\n",
    "\n",
    "What's Good\n",
    "\n",
    "✅ Basic decorator structure is correct\n",
    "\n",
    "✅ Using args to handle multiple arguments\n",
    "\n",
    "✅ Return types are correct\n",
    "\n",
    "✅ Functions are properly decorated\n",
    "\n",
    "What Needs Fixing\n",
    "\n",
    "The main issue is in the logic flow of your wrapper function. Currently:\n",
    "- It only checks the first argument because of the else clause location\n",
    "- It returns after checking just one argument"
   ]
  },
  {
   "cell_type": "markdown",
   "metadata": {},
   "source": [
    "A bit better..."
   ]
  },
  {
   "cell_type": "code",
   "execution_count": 50,
   "metadata": {},
   "outputs": [
    {
     "name": "stdout",
     "output_type": "stream",
     "text": [
      "8\n",
      "8\n",
      "Please provide valid numbers\n",
      "Please provide valid numbers\n"
     ]
    }
   ],
   "source": [
    "def validate_numbers(fn):\n",
    "    def wrapper(*args, **kwargs):\n",
    "        # Check ALL arguments first\n",
    "        for arg in args:\n",
    "            if type(arg) not in (int, float):\n",
    "                return \"Please provide valid numbers\"\n",
    "        # Only if ALL arguments pass, run the function\n",
    "        return fn(*args, **kwargs)\n",
    "    return wrapper\n",
    "\n",
    "@validate_numbers\n",
    "def add(num1, num2):\n",
    "    return num1 + num2\n",
    "\n",
    "@validate_numbers\n",
    "def multiply(num1, num2):\n",
    "    return num1 * num2\n",
    "\n",
    "print(add(3, 5))\n",
    "print(multiply(2, 4))\n",
    "print(add('Hello', 5))\n",
    "print(multiply([], 3))"
   ]
  },
  {
   "cell_type": "markdown",
   "metadata": {},
   "source": [
    "More pythonic to use `isinstance()`"
   ]
  },
  {
   "cell_type": "code",
   "execution_count": 51,
   "metadata": {},
   "outputs": [
    {
     "name": "stdout",
     "output_type": "stream",
     "text": [
      "8\n",
      "8\n",
      "Please provide valid numbers\n",
      "Please provide valid numbers\n"
     ]
    }
   ],
   "source": [
    "def validate_numbers(fn):\n",
    "    def wrapper(*args, **kwargs):\n",
    "        # Check ALL arguments first\n",
    "        for arg in args:\n",
    "            if not isinstance(arg, (int, float)):\n",
    "                return \"Please provide valid numbers\"\n",
    "        # Only if ALL arguments pass, run the function\n",
    "        return fn(*args, **kwargs)\n",
    "    return wrapper\n",
    "\n",
    "@validate_numbers\n",
    "def add(num1, num2):\n",
    "    return num1 + num2\n",
    "\n",
    "@validate_numbers\n",
    "def multiply(num1, num2):\n",
    "    return num1 * num2\n",
    "\n",
    "# Test cases\n",
    "print(add(3, 5))         # 8\n",
    "print(multiply(2, 4))    # 8\n",
    "print(add('Hello', 5))   # \"Please provide valid numbers\"\n",
    "print(multiply([], 3))   # \"Please provide valid numbers\""
   ]
  },
  {
   "cell_type": "markdown",
   "metadata": {},
   "source": [
    "How to use `isinstance()`"
   ]
  },
  {
   "cell_type": "code",
   "execution_count": 53,
   "metadata": {},
   "outputs": [
    {
     "data": {
      "text/plain": [
       "True"
      ]
     },
     "execution_count": 53,
     "metadata": {},
     "output_type": "execute_result"
    }
   ],
   "source": [
    "# \"Is 5 an integer?\"\n",
    "isinstance(5, int)           # True\n",
    "\n",
    "# \"Is 'hello' a string?\"\n",
    "isinstance(\"hello\", str)     # True\n",
    "\n",
    "# \"Is 5.5 either an integer OR a float?\"\n",
    "isinstance(5.5, (int, float))  # True\n",
    "\n",
    "# \"Is my shopping list a list?\"\n",
    "shopping = ['eggs', 'milk']\n",
    "isinstance(shopping, list)   # True"
   ]
  },
  {
   "cell_type": "markdown",
   "metadata": {},
   "source": [
    "Creating a Logging function for print"
   ]
  },
  {
   "cell_type": "code",
   "execution_count": 54,
   "metadata": {},
   "outputs": [
    {
     "name": "stdout",
     "output_type": "stream",
     "text": [
      "This will be logged!\n",
      "This too! 42\n"
     ]
    }
   ],
   "source": [
    "def log_to_file(func):\n",
    "    def wrapper(*args, **kwargs):\n",
    "        # Redirect print output to both console and file\n",
    "        import sys\n",
    "        from datetime import datetime\n",
    "        \n",
    "        # Store the original print function\n",
    "        original_print = print\n",
    "        \n",
    "        # Create a custom print function\n",
    "        def custom_print(*args, **kwargs):\n",
    "            # Get current timestamp\n",
    "            timestamp = datetime.now().strftime(\"%Y-%m-%d %H:%M:%S\")\n",
    "            \n",
    "            # Print to console\n",
    "            original_print(*args, **kwargs)\n",
    "            \n",
    "            # Write to log file\n",
    "            with open('log.txt', 'a') as f:\n",
    "                f.write(f\"[{timestamp}] {' '.join(map(str, args))}\\n\")\n",
    "        \n",
    "        # Replace the built-in print with our custom print\n",
    "        globals()['print'] = custom_print\n",
    "        \n",
    "        # Run the function\n",
    "        result = func(*args, **kwargs)\n",
    "        \n",
    "        # Restore the original print\n",
    "        globals()['print'] = original_print\n",
    "        \n",
    "        return result\n",
    "    return wrapper\n",
    "\n",
    "# Test it:\n",
    "@log_to_file\n",
    "def test_function():\n",
    "    print(\"This will be logged!\")\n",
    "    print(\"This too!\", 42)\n",
    "\n",
    "test_function()"
   ]
  },
  {
   "cell_type": "code",
   "execution_count": 57,
   "metadata": {},
   "outputs": [
    {
     "name": "stdout",
     "output_type": "stream",
     "text": [
      "This will be logged!\n",
      "So will this! 42\n"
     ]
    }
   ],
   "source": [
    "# Store the original print function\n",
    "import sys\n",
    "from datetime import datetime\n",
    "original_print = print\n",
    "\n",
    "# Create our custom print function\n",
    "def custom_print(*args, **kwargs):\n",
    "    # Get timestamp\n",
    "    timestamp = datetime.now().strftime(\"%Y-%m-%d %H:%M:%S\")\n",
    "    \n",
    "    # Print to console normally\n",
    "    original_print(*args, **kwargs)\n",
    "    \n",
    "    # Also write to log file\n",
    "    with open('log.txt', 'a') as f:\n",
    "        f.write(f\"[{timestamp}] {' '.join(map(str, args))}\\n\")\n",
    "\n",
    "# Replace the built-in print globally\n",
    "globals()['print'] = custom_print\n",
    "\n",
    "# Now every print in your code will be logged\n",
    "print(\"This will be logged!\")\n",
    "print(\"So will this!\", 42)"
   ]
  },
  {
   "cell_type": "markdown",
   "metadata": {},
   "source": [
    "Exercise: Authenticated Decorator"
   ]
  },
  {
   "cell_type": "code",
   "execution_count": 68,
   "metadata": {},
   "outputs": [
    {
     "name": "stdout",
     "output_type": "stream",
     "text": [
      "message has been sent\n"
     ]
    }
   ],
   "source": [
    "# Create an @authenticated decorator that only allows the function to run is user1 has 'valid' set to True:\n",
    "user1 = {\n",
    "    'name': 'Sorna',\n",
    "    'valid': True #changing this will either run or not run the message_friends function.\n",
    "}\n",
    "\n",
    "def authenticated(fn):\n",
    "    def wrapper(*args, **kwargs):\n",
    "        if args[0]['valid'] == True:\n",
    "            fn(*args, **kwargs)\n",
    "        else:\n",
    "            return \"Invalid User\"\n",
    "\n",
    "    return wrapper\n",
    "\n",
    "@authenticated\n",
    "def message_friends(user):\n",
    "    print('message has been sent')\n",
    "\n",
    "message_friends(user1)"
   ]
  },
  {
   "cell_type": "markdown",
   "metadata": {},
   "source": [
    "Official Solution"
   ]
  },
  {
   "cell_type": "code",
   "execution_count": 69,
   "metadata": {},
   "outputs": [
    {
     "name": "stdout",
     "output_type": "stream",
     "text": [
      "message has been sent\n"
     ]
    }
   ],
   "source": [
    "# Create an @authenticated decorator that only allows the function to run is user1 has 'valid' set to True:\n",
    "user1 = {\n",
    "    \"name\": \"Sorna\",\n",
    "    \"valid\": True,  # changing this will either run or not run the message_friends function.\n",
    "}\n",
    "\n",
    "\n",
    "def authenticated(fn):\n",
    "    # code here\n",
    "    def wrapper(*args, **kwargs):\n",
    "        if args[0][\"valid\"]:\n",
    "            return fn(*args, **kwargs)\n",
    "        else:\n",
    "            return print(\"invalid user\")\n",
    "\n",
    "    return wrapper\n",
    "\n",
    "\n",
    "@authenticated\n",
    "def message_friends(user):\n",
    "    print(\"message has been sent\")\n",
    "\n",
    "\n",
    "message_friends(user1)"
   ]
  },
  {
   "cell_type": "code",
   "execution_count": null,
   "metadata": {},
   "outputs": [],
   "source": []
  }
 ],
 "metadata": {
  "kernelspec": {
   "display_name": "Python 3",
   "language": "python",
   "name": "python3"
  },
  "language_info": {
   "codemirror_mode": {
    "name": "ipython",
    "version": 3
   },
   "file_extension": ".py",
   "mimetype": "text/x-python",
   "name": "python",
   "nbconvert_exporter": "python",
   "pygments_lexer": "ipython3",
   "version": "3.11.9"
  }
 },
 "nbformat": 4,
 "nbformat_minor": 2
}
