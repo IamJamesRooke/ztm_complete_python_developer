{
 "cells": [
  {
   "cell_type": "markdown",
   "metadata": {},
   "source": [
    "# Error Handling"
   ]
  },
  {
   "cell_type": "code",
   "execution_count": 13,
   "metadata": {},
   "outputs": [
    {
     "name": "stdout",
     "output_type": "stream",
     "text": [
      "unsupported operand type(s) for +: 'int' and 'str'\n"
     ]
    }
   ],
   "source": [
    "def sum(num1, num2):\n",
    "    try:\n",
    "        return num1 + num2\n",
    "    except TypeError as err:\n",
    "        return err\n",
    "\n",
    "print(sum(1, '2'))  # Now you'll see the error message"
   ]
  },
  {
   "cell_type": "markdown",
   "metadata": {},
   "source": [
    "`try`, `except`, `else`, `finally`"
   ]
  },
  {
   "cell_type": "code",
   "execution_count": 18,
   "metadata": {},
   "outputs": [
    {
     "name": "stdout",
     "output_type": "stream",
     "text": [
      "Enter a number.\n",
      "Get this message no matter what.\n",
      "Enter an age greater than 0.\n",
      "Get this message no matter what.\n",
      "Valid Input — Going to finally statement\n",
      "Get this message no matter what.\n"
     ]
    }
   ],
   "source": [
    "while True:\n",
    "    try:\n",
    "        age = int(input(\"What's your age? \"))\n",
    "        10/age\n",
    "    except ValueError:\n",
    "        print('Enter a number.')\n",
    "    except ZeroDivisionError:\n",
    "        print('Enter an age greater than 0.')\n",
    "    else:\n",
    "        print('Valid Input — Going to finally statement')\n",
    "        break\n",
    "    finally: # do this no matter what\n",
    "        print(\"Get this message no matter what.\")"
   ]
  },
  {
   "cell_type": "markdown",
   "metadata": {},
   "source": [
    "`raise`"
   ]
  },
  {
   "cell_type": "code",
   "execution_count": null,
   "metadata": {},
   "outputs": [],
   "source": [
    "while True:\n",
    "    try:\n",
    "        age = int(input(\"What's your age? \"))\n",
    "        10/age\n",
    "        raise ValueError(\"Don't be an idiot.\") # here\n",
    "    except ValueError:\n",
    "        print('Enter a number.')\n",
    "    except ZeroDivisionError:\n",
    "        print('Enter an age greater than 0.')\n",
    "    else:\n",
    "        print('Valid Input — Going to finally statement')\n",
    "        break\n",
    "    finally: # do this no matter what\n",
    "        print(\"Get this message no matter what.\")"
   ]
  },
  {
   "cell_type": "code",
   "execution_count": null,
   "metadata": {},
   "outputs": [],
   "source": []
  }
 ],
 "metadata": {
  "kernelspec": {
   "display_name": "Python 3",
   "language": "python",
   "name": "python3"
  },
  "language_info": {
   "codemirror_mode": {
    "name": "ipython",
    "version": 3
   },
   "file_extension": ".py",
   "mimetype": "text/x-python",
   "name": "python",
   "nbconvert_exporter": "python",
   "pygments_lexer": "ipython3",
   "version": "3.11.9"
  }
 },
 "nbformat": 4,
 "nbformat_minor": 2
}
