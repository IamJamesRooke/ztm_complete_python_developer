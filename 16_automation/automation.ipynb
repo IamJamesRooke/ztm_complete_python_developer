{
 "cells": [
  {
   "cell_type": "markdown",
   "metadata": {},
   "source": [
    "### Setup Driver"
   ]
  },
  {
   "cell_type": "code",
   "execution_count": 37,
   "metadata": {},
   "outputs": [],
   "source": [
    "from selenium import webdriver\n",
    "from selenium.webdriver.chrome.service import Service\n",
    "from selenium.webdriver.common.by import By\n",
    "\n",
    "# Specify the path to the ChromeDriver executable\n",
    "chromedriver_path = r'D:\\OneDrive\\Projects\\ztm_complete_python_developer\\16_automation\\chromedriver.exe'\n",
    "\n",
    "# Create a Service object with the path to the ChromeDriver\n",
    "service = Service(chromedriver_path)"
   ]
  },
  {
   "cell_type": "code",
   "execution_count": 41,
   "metadata": {},
   "outputs": [],
   "source": [
    "# Initialize the WebDriver with the Service object\n",
    "chrome_browser = webdriver.Chrome(service=service)\n",
    "\n",
    "# Open a website\n",
    "chrome_browser.get('https://news.ycombinator.com/')\n",
    "\n",
    "# Maximize the size of the window.\n",
    "chrome_browser.maximize_window()"
   ]
  },
  {
   "cell_type": "code",
   "execution_count": null,
   "metadata": {},
   "outputs": [],
   "source": []
  }
 ],
 "metadata": {
  "kernelspec": {
   "display_name": "venv",
   "language": "python",
   "name": "python3"
  },
  "language_info": {
   "codemirror_mode": {
    "name": "ipython",
    "version": 3
   },
   "file_extension": ".py",
   "mimetype": "text/x-python",
   "name": "python",
   "nbconvert_exporter": "python",
   "pygments_lexer": "ipython3",
   "version": "3.11.9"
  }
 },
 "nbformat": 4,
 "nbformat_minor": 2
}
