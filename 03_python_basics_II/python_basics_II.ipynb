{
 "cells": [
  {
   "cell_type": "markdown",
   "metadata": {},
   "source": [
    "# Python Basics II"
   ]
  },
  {
   "cell_type": "markdown",
   "metadata": {},
   "source": [
    "Conditional Logic"
   ]
  },
  {
   "cell_type": "code",
   "execution_count": 1,
   "metadata": {},
   "outputs": [],
   "source": [
    "is_old = True\n",
    "is_licenced = False"
   ]
  },
  {
   "cell_type": "code",
   "execution_count": 2,
   "metadata": {},
   "outputs": [
    {
     "name": "stdout",
     "output_type": "stream",
     "text": [
      "Can't Drive\n"
     ]
    }
   ],
   "source": [
    "if is_old and is_licenced: # if is_old same thing as if is_old == True\n",
    "    print(\"Can Drive\")\n",
    "else:\n",
    "    print(\"Can't Drive\")"
   ]
  },
  {
   "cell_type": "markdown",
   "metadata": {},
   "source": [
    "Truthy and Falsey"
   ]
  },
  {
   "cell_type": "markdown",
   "metadata": {},
   "source": [
    "using `bool()`"
   ]
  },
  {
   "cell_type": "code",
   "execution_count": 3,
   "metadata": {},
   "outputs": [
    {
     "name": "stdout",
     "output_type": "stream",
     "text": [
      "True True False False False\n"
     ]
    }
   ],
   "source": [
    "print(bool(5), bool('hello'), bool(0), bool(False), bool([]))"
   ]
  },
  {
   "cell_type": "markdown",
   "metadata": {},
   "source": [
    "Ternary Operators"
   ]
  },
  {
   "cell_type": "code",
   "execution_count": 4,
   "metadata": {},
   "outputs": [
    {
     "name": "stdout",
     "output_type": "stream",
     "text": [
      "allowed to message\n"
     ]
    }
   ],
   "source": [
    "is_friend = True\n",
    "can_message = 'allowed to message' if is_friend else 'not allowed to message'\n",
    "print(can_message)"
   ]
  },
  {
   "cell_type": "code",
   "execution_count": 5,
   "metadata": {},
   "outputs": [
    {
     "name": "stdout",
     "output_type": "stream",
     "text": [
      "IS MY FRIEND: False\n"
     ]
    }
   ],
   "source": [
    "#Ternary Operators are a way to assign a value to a variable based on a condition\n",
    "\n",
    "is_awesome = True\n",
    "a_commie = True\n",
    "\n",
    "my_friend = True if is_awesome and not a_commie else False\n",
    "\n",
    "print(\"IS MY FRIEND:\", my_friend)\n"
   ]
  },
  {
   "cell_type": "markdown",
   "metadata": {},
   "source": [
    "Short Circuiting"
   ]
  },
  {
   "cell_type": "code",
   "execution_count": 6,
   "metadata": {},
   "outputs": [
    {
     "name": "stdout",
     "output_type": "stream",
     "text": [
      "BFF\n"
     ]
    }
   ],
   "source": [
    "is_Friend = True\n",
    "is_User = True\n",
    "\n",
    "if is_Friend or is_User:  # using bitwise XOR operator\n",
    "    print(\"BFF\")"
   ]
  },
  {
   "cell_type": "markdown",
   "metadata": {},
   "source": [
    "Logical Operators"
   ]
  },
  {
   "cell_type": "code",
   "execution_count": 7,
   "metadata": {},
   "outputs": [],
   "source": [
    "# >\n",
    "# <\n",
    "# >=\n",
    "# <=\n",
    "# ==\n",
    "# !=\n",
    "# and\n",
    "# or\n",
    "# not\n",
    "# is\n",
    "# in\n",
    "# not in\n",
    "# not is"
   ]
  },
  {
   "cell_type": "code",
   "execution_count": 8,
   "metadata": {},
   "outputs": [
    {
     "data": {
      "text/plain": [
       "True"
      ]
     },
     "execution_count": 8,
     "metadata": {},
     "output_type": "execute_result"
    }
   ],
   "source": [
    "# Using the unicode values of the characters to compare them\n",
    "'a' > 'A'"
   ]
  },
  {
   "cell_type": "code",
   "execution_count": 9,
   "metadata": {},
   "outputs": [
    {
     "name": "stdout",
     "output_type": "stream",
     "text": [
      "97\n",
      "65\n"
     ]
    }
   ],
   "source": [
    "print((ord('a')))\n",
    "print((ord('A')))"
   ]
  },
  {
   "cell_type": "code",
   "execution_count": 10,
   "metadata": {},
   "outputs": [
    {
     "name": "stdout",
     "output_type": "stream",
     "text": [
      "False\n",
      "True\n"
     ]
    }
   ],
   "source": [
    "print(not True)\n",
    "print(not False)"
   ]
  },
  {
   "cell_type": "markdown",
   "metadata": {},
   "source": [
    "Logical Operators Exercise"
   ]
  },
  {
   "cell_type": "code",
   "execution_count": 11,
   "metadata": {},
   "outputs": [],
   "source": [
    "is_magician = True\n",
    "is_expert = False"
   ]
  },
  {
   "cell_type": "code",
   "execution_count": 12,
   "metadata": {},
   "outputs": [
    {
     "name": "stdout",
     "output_type": "stream",
     "text": [
      "At least you're getting there\n"
     ]
    }
   ],
   "source": [
    "# check if magician and expert: \"you are a master magician\"\n",
    "if is_magician and is_expert:\n",
    "    print(\"You are a master magician\")\n",
    "# check if magician but not expert: \"at least you're getting there\"\n",
    "elif is_magician and not is_expert:\n",
    "    print(\"At least you're getting there\")\n",
    "\n",
    "# if you're not a magician: \"you need magic powers\"\n",
    "else:\n",
    "    print(\"You need magic powers\")"
   ]
  },
  {
   "cell_type": "markdown",
   "metadata": {},
   "source": [
    "`is` vs `==`"
   ]
  },
  {
   "cell_type": "code",
   "execution_count": 13,
   "metadata": {},
   "outputs": [
    {
     "name": "stdout",
     "output_type": "stream",
     "text": [
      "True\n",
      "False\n",
      "False\n",
      "True\n",
      "True\n"
     ]
    }
   ],
   "source": [
    "# Guess Outcomes\n",
    "\n",
    "print(True == 1) # True\n",
    "print('' == 1) # False\n",
    "print([] == 1) # False\n",
    "print(10 == 10.0) # True\n",
    "print([] == []) # True"
   ]
  },
  {
   "cell_type": "code",
   "execution_count": 14,
   "metadata": {},
   "outputs": [
    {
     "name": "stdout",
     "output_type": "stream",
     "text": [
      "False\n",
      "False\n",
      "False\n",
      "False\n",
      "False\n"
     ]
    },
    {
     "name": "stderr",
     "output_type": "stream",
     "text": [
      "<>:1: SyntaxWarning: \"is\" with a literal. Did you mean \"==\"?\n",
      "<>:2: SyntaxWarning: \"is\" with a literal. Did you mean \"==\"?\n",
      "<>:3: SyntaxWarning: \"is\" with a literal. Did you mean \"==\"?\n",
      "<>:4: SyntaxWarning: \"is\" with a literal. Did you mean \"==\"?\n",
      "<>:1: SyntaxWarning: \"is\" with a literal. Did you mean \"==\"?\n",
      "<>:2: SyntaxWarning: \"is\" with a literal. Did you mean \"==\"?\n",
      "<>:3: SyntaxWarning: \"is\" with a literal. Did you mean \"==\"?\n",
      "<>:4: SyntaxWarning: \"is\" with a literal. Did you mean \"==\"?\n",
      "C:\\Users\\James\\AppData\\Local\\Temp\\ipykernel_26680\\2273154709.py:1: SyntaxWarning: \"is\" with a literal. Did you mean \"==\"?\n",
      "  print('1' is 1) # False\n",
      "C:\\Users\\James\\AppData\\Local\\Temp\\ipykernel_26680\\2273154709.py:2: SyntaxWarning: \"is\" with a literal. Did you mean \"==\"?\n",
      "  print(True is 1) # False\n",
      "C:\\Users\\James\\AppData\\Local\\Temp\\ipykernel_26680\\2273154709.py:3: SyntaxWarning: \"is\" with a literal. Did you mean \"==\"?\n",
      "  print([] is 1) # False\n",
      "C:\\Users\\James\\AppData\\Local\\Temp\\ipykernel_26680\\2273154709.py:4: SyntaxWarning: \"is\" with a literal. Did you mean \"==\"?\n",
      "  print(10 is 10.0) # False\n"
     ]
    }
   ],
   "source": [
    "print('1' is 1) # False\n",
    "print(True is 1) # False\n",
    "print([] is 1) # False\n",
    "print(10 is 10.0) # False\n",
    "print([1, 2, 3] is [1, 2, 3]) # False"
   ]
  },
  {
   "cell_type": "code",
   "execution_count": 15,
   "metadata": {},
   "outputs": [
    {
     "name": "stdout",
     "output_type": "stream",
     "text": [
      "False\n",
      "True\n"
     ]
    }
   ],
   "source": [
    "James1 = [1, 2, 3]\n",
    "James2 = [1, 2, 3]\n",
    "\n",
    "# James1 and James2 point to different memory locations\n",
    "print(James1 is James2)\n",
    "print(James1 == James2)"
   ]
  },
  {
   "cell_type": "markdown",
   "metadata": {},
   "source": [
    "For Loops"
   ]
  },
  {
   "cell_type": "code",
   "execution_count": 16,
   "metadata": {},
   "outputs": [],
   "source": [
    "# A quick letter counter\n",
    "phrase = 'Zero to Mastery'\n",
    "alphabet = ['a', 'b', 'c', 'd', 'e', \n",
    "            'f', 'g', 'h', 'i', 'j', \n",
    "            'k', 'l', 'm', 'n', 'o', \n",
    "            'p', 'q', 'r', 's', 't', \n",
    "            'u', 'v', 'w', 'x', 'y', 'z']"
   ]
  },
  {
   "cell_type": "code",
   "execution_count": 17,
   "metadata": {},
   "outputs": [
    {
     "name": "stdout",
     "output_type": "stream",
     "text": [
      "a 1\n",
      "b 0\n",
      "c 0\n",
      "d 0\n",
      "e 2\n",
      "f 0\n",
      "g 0\n",
      "h 0\n",
      "i 0\n",
      "j 0\n",
      "k 0\n",
      "l 0\n",
      "m 0\n",
      "n 0\n",
      "o 2\n",
      "p 0\n",
      "q 0\n",
      "r 2\n",
      "s 1\n",
      "t 2\n",
      "u 0\n",
      "v 0\n",
      "w 0\n",
      "x 0\n",
      "y 1\n",
      "z 0\n"
     ]
    }
   ],
   "source": [
    "for letter in alphabet:\n",
    "    print(letter, phrase.count(letter))"
   ]
  },
  {
   "cell_type": "markdown",
   "metadata": {},
   "source": [
    "Iterables"
   ]
  },
  {
   "cell_type": "code",
   "execution_count": 18,
   "metadata": {},
   "outputs": [
    {
     "name": "stdout",
     "output_type": "stream",
     "text": [
      "1\n",
      "2\n",
      "3\n",
      "4\n",
      "5\n"
     ]
    }
   ],
   "source": [
    "# iterables - list, dictionary, tuple, set, string\n",
    "# iterate - one by one check each item in the collection\n",
    "\n",
    "for each in (1, 2, 3, 4, 5):\n",
    "    print(each)"
   ]
  },
  {
   "cell_type": "code",
   "execution_count": 19,
   "metadata": {},
   "outputs": [
    {
     "data": {
      "text/plain": [
       "{'name': 'Golem', 'age': 5006, 'can_swim': False}"
      ]
     },
     "execution_count": 19,
     "metadata": {},
     "output_type": "execute_result"
    }
   ],
   "source": [
    "user = {\n",
    "    'name': 'Golem',\n",
    "    'age': 5006,\n",
    "    'can_swim': False   \n",
    "}\n",
    "\n",
    "user"
   ]
  },
  {
   "cell_type": "markdown",
   "metadata": {},
   "source": [
    "Iterating Dictionaries"
   ]
  },
  {
   "cell_type": "code",
   "execution_count": 20,
   "metadata": {},
   "outputs": [
    {
     "name": "stdout",
     "output_type": "stream",
     "text": [
      "('name', 'Golem')\n",
      "('age', 5006)\n",
      "('can_swim', False)\n",
      "\n",
      "—————\n",
      "\n",
      "name Golem\n",
      "age 5006\n",
      "can_swim False\n",
      "\n",
      "—————\n",
      "\n",
      "name\n",
      "age\n",
      "can_swim\n",
      "\n",
      "—————\n",
      "\n",
      "Golem\n",
      "5006\n",
      "False\n",
      "\n",
      "—————\n",
      "\n"
     ]
    }
   ],
   "source": [
    "for item in user.items():\n",
    "    print(item)\n",
    "print('\\n—————\\n')\n",
    "\n",
    "for key, value in user.items():\n",
    "    print(key, value)\n",
    "print('\\n—————\\n')\n",
    "\n",
    "for item in user.keys():\n",
    "    print(item)\n",
    "print('\\n—————\\n')\n",
    "\n",
    "for item in user.values():\n",
    "    print(item)\n",
    "print('\\n—————\\n')"
   ]
  },
  {
   "cell_type": "markdown",
   "metadata": {},
   "source": [
    "Exercise: Tricky Counter"
   ]
  },
  {
   "cell_type": "code",
   "execution_count": 21,
   "metadata": {},
   "outputs": [
    {
     "name": "stdout",
     "output_type": "stream",
     "text": [
      "55\n"
     ]
    }
   ],
   "source": [
    "# counter\n",
    "my_list = [1, 2, 3, 4, 5, 6, 7, 8, 9, 10]\n",
    "\n",
    "counter = 0\n",
    "\n",
    "for each in my_list:\n",
    "    counter += each\n",
    "\n",
    "print(counter)"
   ]
  },
  {
   "cell_type": "markdown",
   "metadata": {},
   "source": [
    "Range"
   ]
  },
  {
   "cell_type": "markdown",
   "metadata": {},
   "source": []
  },
  {
   "cell_type": "code",
   "execution_count": 22,
   "metadata": {},
   "outputs": [],
   "source": [
    "# range is not a tuple, it's its own object\n",
    "x = range(5, 9 + 1)"
   ]
  },
  {
   "cell_type": "code",
   "execution_count": 23,
   "metadata": {},
   "outputs": [
    {
     "name": "stdout",
     "output_type": "stream",
     "text": [
      "5\n",
      "6\n",
      "7\n",
      "8\n",
      "9\n"
     ]
    }
   ],
   "source": [
    "for _ in x:\n",
    "    print(_)"
   ]
  },
  {
   "cell_type": "code",
   "execution_count": 24,
   "metadata": {},
   "outputs": [],
   "source": [
    "new_range = (x[0], x[1], x[2], x[3], x[4])"
   ]
  },
  {
   "cell_type": "code",
   "execution_count": 25,
   "metadata": {},
   "outputs": [
    {
     "name": "stdout",
     "output_type": "stream",
     "text": [
      "5\n",
      "6\n",
      "7\n",
      "8\n",
      "9\n"
     ]
    }
   ],
   "source": [
    "for _ in new_range:\n",
    "    print(_)"
   ]
  },
  {
   "cell_type": "code",
   "execution_count": 26,
   "metadata": {},
   "outputs": [
    {
     "data": {
      "text/plain": [
       "[0, 1, 2, 3, 4]"
      ]
     },
     "execution_count": 26,
     "metadata": {},
     "output_type": "execute_result"
    }
   ],
   "source": [
    "list(range(0,5))"
   ]
  },
  {
   "cell_type": "markdown",
   "metadata": {},
   "source": [
    "`enumerate`"
   ]
  },
  {
   "cell_type": "code",
   "execution_count": 27,
   "metadata": {},
   "outputs": [
    {
     "name": "stdout",
     "output_type": "stream",
     "text": [
      "index of 50 if 50\n"
     ]
    }
   ],
   "source": [
    "for i, char in enumerate(list(range(100))):\n",
    "    if i == 50:\n",
    "        print(f'index of 50 if {i}')"
   ]
  },
  {
   "cell_type": "markdown",
   "metadata": {},
   "source": [
    "`while` loops"
   ]
  },
  {
   "cell_type": "code",
   "execution_count": 28,
   "metadata": {},
   "outputs": [
    {
     "name": "stdout",
     "output_type": "stream",
     "text": [
      "1\n"
     ]
    }
   ],
   "source": [
    "i = 1\n",
    "\n",
    "while i <= 4:\n",
    "    print(i)\n",
    "    i += 1\n",
    "    break\n",
    "else:\n",
    "    print('Done')"
   ]
  },
  {
   "cell_type": "code",
   "execution_count": 29,
   "metadata": {},
   "outputs": [
    {
     "name": "stdout",
     "output_type": "stream",
     "text": [
      "1\n",
      "2\n",
      "3\n",
      "0\n",
      "1\n",
      "2\n"
     ]
    }
   ],
   "source": [
    "for item in [1, 2, 3]:\n",
    "    print(item)\n",
    "\n",
    "i = 0\n",
    "while i < len([1, 2, 3]):\n",
    "    print(i)\n",
    "    i += 1"
   ]
  },
  {
   "cell_type": "code",
   "execution_count": 30,
   "metadata": {},
   "outputs": [],
   "source": [
    "while True:\n",
    "    response = input('Say something: ')\n",
    "    if response == 'bye':\n",
    "        break"
   ]
  },
  {
   "cell_type": "markdown",
   "metadata": {},
   "source": [
    "`break`, `continue`, `pass`"
   ]
  },
  {
   "cell_type": "code",
   "execution_count": 31,
   "metadata": {},
   "outputs": [
    {
     "name": "stdout",
     "output_type": "stream",
     "text": [
      "1\n",
      "2\n",
      "3\n",
      "0\n",
      "1\n",
      "2\n"
     ]
    }
   ],
   "source": [
    "for item in [1, 2, 3]:\n",
    "    print(item)\n",
    "    continue # skips the rest of the code in the loop and goes to the next iteration\n",
    "\n",
    "i = 0\n",
    "while i < len([1, 2, 3]):\n",
    "    print(i)\n",
    "    i += 1\n",
    "    pass # does nothing, but is a placeholder for future code"
   ]
  },
  {
   "cell_type": "markdown",
   "metadata": {},
   "source": [
    "Our First GUI"
   ]
  },
  {
   "cell_type": "code",
   "execution_count": 32,
   "metadata": {},
   "outputs": [
    {
     "data": {
      "text/plain": [
       "[[0, 0, 0, 1, 0, 0, 0],\n",
       " [0, 0, 1, 1, 1, 0, 0],\n",
       " [0, 1, 1, 1, 1, 1, 0],\n",
       " [1, 1, 1, 1, 1, 1, 1],\n",
       " [0, 0, 0, 1, 0, 0, 0],\n",
       " [0, 0, 0, 1, 0, 0, 0]]"
      ]
     },
     "execution_count": 32,
     "metadata": {},
     "output_type": "execute_result"
    }
   ],
   "source": [
    "picture = [\n",
    "    [0, 0, 0, 1, 0, 0, 0],\n",
    "    [0, 0, 1, 1, 1, 0, 0],\n",
    "    [0, 1, 1, 1, 1, 1, 0],\n",
    "    [1, 1, 1, 1, 1, 1, 1],\n",
    "    [0, 0, 0, 1, 0, 0, 0],\n",
    "    [0, 0, 0, 1, 0, 0, 0]\n",
    "]\n",
    "\n",
    "picture"
   ]
  },
  {
   "cell_type": "code",
   "execution_count": 33,
   "metadata": {},
   "outputs": [
    {
     "name": "stdout",
     "output_type": "stream",
     "text": [
      "🟧🟧🟧⬛🟧🟧🟧\n",
      "🟧🟧⬛⬛⬛🟧🟧\n",
      "🟧⬛⬛⬛⬛⬛🟧\n",
      "⬛⬛⬛⬛⬛⬛⬛\n",
      "🟧🟧🟧⬛🟧🟧🟧\n",
      "🟧🟧🟧⬛🟧🟧🟧\n"
     ]
    }
   ],
   "source": [
    "# Iterate over each row in the 2D list 'picture'\n",
    "for row in picture:\n",
    "    \n",
    "    # Initialize an empty string to build the visual representation of the current row\n",
    "    row_image = ''\n",
    "    \n",
    "    # Iterate over each element (column) in the current row\n",
    "    for column in row:\n",
    "        \n",
    "        # Append a white square (⬜) if the column value is 0, otherwise append a black square (⬛)\n",
    "        row_image += '🟧' if column == 0 else '⬛'\n",
    "    \n",
    "    # Print the constructed string for the current row, showing the visual representation\n",
    "    print(row_image)"
   ]
  },
  {
   "cell_type": "markdown",
   "metadata": {},
   "source": [
    "## Developer Fundamentals IV"
   ]
  },
  {
   "cell_type": "markdown",
   "metadata": {},
   "source": [
    "### Exercise: Find Duplicates"
   ]
  },
  {
   "cell_type": "code",
   "execution_count": 34,
   "metadata": {},
   "outputs": [],
   "source": [
    "some_list = ['a', 'b', 'c', 'b', 'd', 'm', 'n', 'n']"
   ]
  },
  {
   "cell_type": "code",
   "execution_count": 35,
   "metadata": {},
   "outputs": [
    {
     "name": "stdout",
     "output_type": "stream",
     "text": [
      "['b', 'n']\n"
     ]
    }
   ],
   "source": [
    "seen = []\n",
    "list_of_duplicates = []\n",
    "\n",
    "for item in some_list:\n",
    "    \n",
    "    if item in seen:\n",
    "        list_of_duplicates.append(item)\n",
    "\n",
    "    seen.append(item)\n",
    "\n",
    "print(list_of_duplicates)"
   ]
  },
  {
   "cell_type": "markdown",
   "metadata": {},
   "source": [
    "Functions"
   ]
  },
  {
   "cell_type": "code",
   "execution_count": 36,
   "metadata": {},
   "outputs": [],
   "source": [
    "def say_hello():\n",
    "    print('Hello')"
   ]
  },
  {
   "cell_type": "code",
   "execution_count": 37,
   "metadata": {},
   "outputs": [
    {
     "name": "stdout",
     "output_type": "stream",
     "text": [
      "Hello\n"
     ]
    }
   ],
   "source": [
    "say_hello()"
   ]
  },
  {
   "cell_type": "code",
   "execution_count": 38,
   "metadata": {},
   "outputs": [
    {
     "name": "stdout",
     "output_type": "stream",
     "text": [
      "other message\n"
     ]
    }
   ],
   "source": [
    "def say_something(message='something'):\n",
    "    print(message)\n",
    "\n",
    "say_something('other message')"
   ]
  },
  {
   "cell_type": "code",
   "execution_count": 39,
   "metadata": {},
   "outputs": [
    {
     "name": "stdout",
     "output_type": "stream",
     "text": [
      "🟧🟧🟧⬛🟧🟧🟧\n",
      "🟧🟧⬛⬛⬛🟧🟧\n",
      "🟧⬛⬛⬛⬛⬛🟧\n",
      "⬛⬛⬛⬛⬛⬛⬛\n",
      "🟧🟧🟧⬛🟧🟧🟧\n",
      "🟧🟧🟧⬛🟧🟧🟧\n"
     ]
    }
   ],
   "source": [
    "# creating a custom function to convert the matrix to an image\n",
    "def matrix_to_image(picture):\n",
    "    for row in picture:\n",
    "        row_image = ''\n",
    "\n",
    "        for column in row:\n",
    "            row_image += '🟧' if column == 0 else '⬛'\n",
    "        print(row_image)\n",
    "\n",
    "# Call the function with the picture variable\n",
    "matrix_to_image(picture)"
   ]
  },
  {
   "cell_type": "code",
   "execution_count": 40,
   "metadata": {},
   "outputs": [
    {
     "name": "stdout",
     "output_type": "stream",
     "text": [
      "🟧🟧🟧⬛🟧🟧🟧\n",
      "🟧🟧⬛⬛⬛🟧🟧\n",
      "🟧⬛⬛⬛⬛⬛🟧\n",
      "⬛⬛⬛⬛⬛⬛⬛\n",
      "🟧🟧🟧⬛🟧🟧🟧\n",
      "🟧🟧🟧⬛🟧🟧🟧\n",
      "\n",
      "🟧🟧🟧⬛🟧🟧🟧\n",
      "🟧🟧⬛⬛⬛🟧🟧\n",
      "🟧⬛⬛⬛⬛⬛🟧\n",
      "⬛⬛⬛⬛⬛⬛⬛\n",
      "🟧🟧🟧⬛🟧🟧🟧\n",
      "🟧🟧🟧⬛🟧🟧🟧\n",
      "\n"
     ]
    }
   ],
   "source": [
    "for each in range(2):\n",
    "    matrix_to_image(picture)\n",
    "    print()"
   ]
  },
  {
   "cell_type": "markdown",
   "metadata": {},
   "source": [
    "Parameters and Arguments"
   ]
  },
  {
   "cell_type": "code",
   "execution_count": 47,
   "metadata": {},
   "outputs": [
    {
     "name": "stdout",
     "output_type": "stream",
     "text": [
      "asdf\n"
     ]
    }
   ],
   "source": [
    "# parameters are the variables in the function definition\n",
    "# arguments are the values passed into the function\n",
    "# message is the parameter and 'something' is the argument\n",
    "\n",
    "def say_hello(message = input('Say what? ') or 'Hi!') -> None: # you can use 'or' to set a default value\n",
    "    print(message)\n",
    "\n",
    "say_hello()"
   ]
  },
  {
   "cell_type": "markdown",
   "metadata": {},
   "source": [
    "Return\n",
    "- Functions should do one thing really wel.\n",
    "- Functions should return something."
   ]
  },
  {
   "cell_type": "code",
   "execution_count": 48,
   "metadata": {},
   "outputs": [],
   "source": [
    "def sum(num1, num2):\n",
    "    return num1 +  num2"
   ]
  },
  {
   "cell_type": "code",
   "execution_count": 52,
   "metadata": {},
   "outputs": [
    {
     "data": {
      "text/plain": [
       "14"
      ]
     },
     "execution_count": 52,
     "metadata": {},
     "output_type": "execute_result"
    }
   ],
   "source": [
    "total = sum(4, 10)\n",
    "total"
   ]
  },
  {
   "cell_type": "code",
   "execution_count": 53,
   "metadata": {},
   "outputs": [
    {
     "data": {
      "text/plain": [
       "28"
      ]
     },
     "execution_count": 53,
     "metadata": {},
     "output_type": "execute_result"
    }
   ],
   "source": [
    "total = sum(total, total)\n",
    "total"
   ]
  },
  {
   "cell_type": "markdown",
   "metadata": {},
   "source": [
    "### Tesla Exercise"
   ]
  },
  {
   "cell_type": "code",
   "execution_count": null,
   "metadata": {},
   "outputs": [],
   "source": []
  }
 ],
 "metadata": {
  "kernelspec": {
   "display_name": "Python 3",
   "language": "python",
   "name": "python3"
  },
  "language_info": {
   "codemirror_mode": {
    "name": "ipython",
    "version": 3
   },
   "file_extension": ".py",
   "mimetype": "text/x-python",
   "name": "python",
   "nbconvert_exporter": "python",
   "pygments_lexer": "ipython3",
   "version": "3.11.9"
  }
 },
 "nbformat": 4,
 "nbformat_minor": 2
}
