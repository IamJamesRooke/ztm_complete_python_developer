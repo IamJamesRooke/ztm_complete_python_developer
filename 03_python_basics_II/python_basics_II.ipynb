{
 "cells": [
  {
   "cell_type": "markdown",
   "metadata": {},
   "source": [
    "# Python Basics II"
   ]
  },
  {
   "cell_type": "markdown",
   "metadata": {},
   "source": [
    "Conditional Logic"
   ]
  },
  {
   "cell_type": "code",
   "execution_count": 10,
   "metadata": {},
   "outputs": [],
   "source": [
    "is_old = True\n",
    "is_licenced = False"
   ]
  },
  {
   "cell_type": "code",
   "execution_count": 12,
   "metadata": {},
   "outputs": [
    {
     "name": "stdout",
     "output_type": "stream",
     "text": [
      "Can't Drive\n"
     ]
    }
   ],
   "source": [
    "if is_old and is_licenced: # if is_old same thing as if is_old == True\n",
    "    print(\"Can Drive\")\n",
    "else:\n",
    "    print(\"Can't Drive\")"
   ]
  },
  {
   "cell_type": "markdown",
   "metadata": {},
   "source": [
    "Truthy and Falsey"
   ]
  },
  {
   "cell_type": "markdown",
   "metadata": {},
   "source": [
    "using `bool()`"
   ]
  },
  {
   "cell_type": "code",
   "execution_count": 16,
   "metadata": {},
   "outputs": [
    {
     "name": "stdout",
     "output_type": "stream",
     "text": [
      "True True False False False\n"
     ]
    }
   ],
   "source": [
    "print(bool(5), bool('hello'), bool(0), bool(False), bool([]))"
   ]
  },
  {
   "cell_type": "markdown",
   "metadata": {},
   "source": [
    "Ternary Operators"
   ]
  },
  {
   "cell_type": "code",
   "execution_count": 18,
   "metadata": {},
   "outputs": [
    {
     "name": "stdout",
     "output_type": "stream",
     "text": [
      "allowed to message\n"
     ]
    }
   ],
   "source": [
    "is_friend = True\n",
    "can_message = 'allowed to message' if is_friend else 'not allowed to message'\n",
    "print(can_message)"
   ]
  },
  {
   "cell_type": "code",
   "execution_count": 24,
   "metadata": {},
   "outputs": [
    {
     "name": "stdout",
     "output_type": "stream",
     "text": [
      "IS MY FRIEND: False\n"
     ]
    }
   ],
   "source": [
    "#Ternary Operators are a way to assign a value to a variable based on a condition\n",
    "\n",
    "is_awesome = True\n",
    "a_commie = True\n",
    "\n",
    "my_friend = True if is_awesome and not a_commie else False\n",
    "\n",
    "print(\"IS MY FRIEND:\", my_friend)\n"
   ]
  },
  {
   "cell_type": "markdown",
   "metadata": {},
   "source": [
    "Short Circuiting"
   ]
  },
  {
   "cell_type": "code",
   "execution_count": 32,
   "metadata": {},
   "outputs": [
    {
     "name": "stdout",
     "output_type": "stream",
     "text": [
      "BFF\n"
     ]
    }
   ],
   "source": [
    "is_Friend = True\n",
    "is_User = True\n",
    "\n",
    "if is_Friend or is_User:  # using bitwise XOR operator\n",
    "    print(\"BFF\")"
   ]
  },
  {
   "cell_type": "markdown",
   "metadata": {},
   "source": [
    "Logical Operators"
   ]
  },
  {
   "cell_type": "code",
   "execution_count": null,
   "metadata": {},
   "outputs": [],
   "source": [
    "# >\n",
    "# <\n",
    "# >=\n",
    "# <=\n",
    "# ==\n",
    "# !=\n",
    "# and\n",
    "# or\n",
    "# not\n",
    "# is\n",
    "# in\n",
    "# not in\n",
    "# not is"
   ]
  },
  {
   "cell_type": "code",
   "execution_count": 33,
   "metadata": {},
   "outputs": [
    {
     "data": {
      "text/plain": [
       "True"
      ]
     },
     "execution_count": 33,
     "metadata": {},
     "output_type": "execute_result"
    }
   ],
   "source": [
    "# Using the unicode values of the characters to compare them\n",
    "'a' > 'A'"
   ]
  },
  {
   "cell_type": "code",
   "execution_count": 41,
   "metadata": {},
   "outputs": [
    {
     "name": "stdout",
     "output_type": "stream",
     "text": [
      "97\n",
      "65\n"
     ]
    }
   ],
   "source": [
    "print((ord('a')))\n",
    "print((ord('A')))"
   ]
  },
  {
   "cell_type": "code",
   "execution_count": 43,
   "metadata": {},
   "outputs": [
    {
     "name": "stdout",
     "output_type": "stream",
     "text": [
      "False\n",
      "True\n"
     ]
    }
   ],
   "source": [
    "print(not True)\n",
    "print(not False)"
   ]
  },
  {
   "cell_type": "markdown",
   "metadata": {},
   "source": [
    "Logical Operators Exercise"
   ]
  },
  {
   "cell_type": "code",
   "execution_count": 45,
   "metadata": {},
   "outputs": [],
   "source": [
    "is_magician = True\n",
    "is_expert = False"
   ]
  },
  {
   "cell_type": "code",
   "execution_count": 50,
   "metadata": {},
   "outputs": [
    {
     "name": "stdout",
     "output_type": "stream",
     "text": [
      "At least you're getting there\n"
     ]
    }
   ],
   "source": [
    "# check if magician and expert: \"you are a master magician\"\n",
    "if is_magician and is_expert:\n",
    "    print(\"You are a master magician\")\n",
    "# check if magician but not expert: \"at least you're getting there\"\n",
    "elif is_magician and not is_expert:\n",
    "    print(\"At least you're getting there\")\n",
    "\n",
    "# if you're not a magician: \"you need magic powers\"\n",
    "else:\n",
    "    print(\"You need magic powers\")"
   ]
  },
  {
   "cell_type": "markdown",
   "metadata": {},
   "source": []
  }
 ],
 "metadata": {
  "kernelspec": {
   "display_name": "Python 3",
   "language": "python",
   "name": "python3"
  },
  "language_info": {
   "codemirror_mode": {
    "name": "ipython",
    "version": 3
   },
   "file_extension": ".py",
   "mimetype": "text/x-python",
   "name": "python",
   "nbconvert_exporter": "python",
   "pygments_lexer": "ipython3",
   "version": "3.11.9"
  }
 },
 "nbformat": 4,
 "nbformat_minor": 2
}
