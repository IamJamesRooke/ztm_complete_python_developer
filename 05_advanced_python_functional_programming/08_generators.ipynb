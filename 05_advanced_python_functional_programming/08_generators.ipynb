{
 "cells": [
  {
   "cell_type": "markdown",
   "metadata": {},
   "source": [
    "# Generators"
   ]
  },
  {
   "cell_type": "code",
   "execution_count": 2,
   "metadata": {},
   "outputs": [
    {
     "data": {
      "text/plain": [
       "range(0, 10)"
      ]
     },
     "execution_count": 2,
     "metadata": {},
     "output_type": "execute_result"
    }
   ],
   "source": [
    "range(10) # this is a generatr"
   ]
  },
  {
   "cell_type": "code",
   "execution_count": 3,
   "metadata": {},
   "outputs": [
    {
     "data": {
      "text/plain": [
       "[0, 1, 2, 3, 4, 5, 6, 7, 8, 9]"
      ]
     },
     "execution_count": 3,
     "metadata": {},
     "output_type": "execute_result"
    }
   ],
   "source": [
    "list(range(10))"
   ]
  },
  {
   "cell_type": "markdown",
   "metadata": {},
   "source": [
    "Problem of this is that `range` needs to put all the numbers in memory, which can be problematic if it's `range(1000000000000000000000)`"
   ]
  },
  {
   "cell_type": "code",
   "execution_count": 5,
   "metadata": {},
   "outputs": [
    {
     "name": "stdout",
     "output_type": "stream",
     "text": [
      "[0, 2, 4, 6, 8, 10, 12, 14, 16, 18]\n"
     ]
    }
   ],
   "source": [
    "def make_list(num):\n",
    "    result = []\n",
    "    for i in range(num):\n",
    "        result.append(i*2)\n",
    "    return result\n",
    "\n",
    "my_list = make_list(10)\n",
    "print(my_list)"
   ]
  },
  {
   "cell_type": "markdown",
   "metadata": {},
   "source": [
    "`yield` and `next`\n",
    "\n",
    "This allows you to go through a range one item at a time without allocating the entire range list to memory."
   ]
  },
  {
   "cell_type": "code",
   "execution_count": 11,
   "metadata": {},
   "outputs": [
    {
     "name": "stdout",
     "output_type": "stream",
     "text": [
      "4\n"
     ]
    }
   ],
   "source": [
    "def generator_function(num):\n",
    "    for i in range(num):\n",
    "        yield i * 2 # makes it so holding only one item in memory at a time\n",
    "\n",
    "g = generator_function(100)\n",
    "next(g)\n",
    "next(g)\n",
    "print(next(g))"
   ]
  },
  {
   "cell_type": "markdown",
   "metadata": {},
   "source": [
    "Why they are powerful."
   ]
  },
  {
   "cell_type": "code",
   "execution_count": 28,
   "metadata": {},
   "outputs": [],
   "source": [
    "from time import time\n",
    "\n",
    "def performance(fn):\n",
    "    def wrapper(*args, **kwargs):\n",
    "        time1 = time()\n",
    "        result = fn(*args, **kwargs)\n",
    "        time2 = time()\n",
    "        print(f\"Time Elapsed: {time2 - time1}\")\n",
    "        return result\n",
    "    return wrapper"
   ]
  },
  {
   "cell_type": "code",
   "execution_count": 29,
   "metadata": {},
   "outputs": [
    {
     "name": "stdout",
     "output_type": "stream",
     "text": [
      "Hello\n",
      "Time Elapsed: 0.0\n"
     ]
    }
   ],
   "source": [
    "@performance\n",
    "def say(message):\n",
    "    print(message)\n",
    "\n",
    "say('Hello')"
   ]
  },
  {
   "cell_type": "code",
   "execution_count": 30,
   "metadata": {},
   "outputs": [
    {
     "name": "stdout",
     "output_type": "stream",
     "text": [
      "1\n",
      "Time Elapsed: 0.21958637237548828\n"
     ]
    }
   ],
   "source": [
    "@performance\n",
    "def long_time():\n",
    "    print('1')\n",
    "    for i in range(10000000):\n",
    "        i * 5\n",
    "\n",
    "long_time()"
   ]
  },
  {
   "cell_type": "code",
   "execution_count": 31,
   "metadata": {},
   "outputs": [
    {
     "name": "stdout",
     "output_type": "stream",
     "text": [
      "2\n",
      "Time Elapsed: 0.34053730964660645\n"
     ]
    }
   ],
   "source": [
    "@performance\n",
    "def long_time2():\n",
    "    print('2')\n",
    "    for i in list(range(10000000)):\n",
    "        i * 5\n",
    "\n",
    "long_time2()"
   ]
  },
  {
   "cell_type": "code",
   "execution_count": 32,
   "metadata": {},
   "outputs": [
    {
     "name": "stdout",
     "output_type": "stream",
     "text": [
      "0\n",
      "1\n",
      "2\n"
     ]
    }
   ],
   "source": [
    "def gen_fun(num):\n",
    "    for i in range(num):\n",
    "        yield i\n",
    "\n",
    "for item in gen_fun(3):\n",
    "    print(item)"
   ]
  },
  {
   "cell_type": "markdown",
   "metadata": {},
   "source": [
    "Under the hood of generators. Here you can see that the memory space is being replaced with the next item in the for loop."
   ]
  },
  {
   "cell_type": "code",
   "execution_count": 34,
   "metadata": {},
   "outputs": [
    {
     "name": "stdout",
     "output_type": "stream",
     "text": [
      "<list_iterator object at 0x000002136F7E7D60>\n",
      "<list_iterator object at 0x000002136F7E7D60>\n",
      "<list_iterator object at 0x000002136F7E7D60>\n",
      "<list_iterator object at 0x000002136F7E7D60>\n"
     ]
    }
   ],
   "source": [
    "def special_for(iterable):\n",
    "    iterator = iter(iterable)\n",
    "\n",
    "    while True:\n",
    "        try:\n",
    "            print(iterator)\n",
    "            next(iterator)\n",
    "        except StopIteration:\n",
    "            break\n",
    "\n",
    "special_for([1, 2, 3])"
   ]
  },
  {
   "cell_type": "code",
   "execution_count": 37,
   "metadata": {},
   "outputs": [
    {
     "name": "stdout",
     "output_type": "stream",
     "text": [
      "0\n",
      "1\n",
      "2\n",
      "3\n",
      "4\n",
      "5\n",
      "6\n",
      "7\n",
      "8\n",
      "9\n",
      "10\n",
      "11\n",
      "12\n",
      "13\n",
      "14\n",
      "15\n",
      "16\n",
      "17\n",
      "18\n",
      "19\n"
     ]
    }
   ],
   "source": [
    "class MyGen():\n",
    "\n",
    "    current = 0\n",
    "\n",
    "    def __init__(self, first, last) -> None:\n",
    "        self.first = first\n",
    "        self.last = last\n",
    "\n",
    "    def __iter__(self):\n",
    "        return self\n",
    "    \n",
    "    def __next__(self):\n",
    "        if MyGen.current < self.last:\n",
    "            num = MyGen.current\n",
    "            MyGen.current += 1\n",
    "            return num\n",
    "        \n",
    "        raise StopIteration\n",
    "    \n",
    "gen = MyGen(0, 20)\n",
    "\n",
    "for i in gen:\n",
    "    print(i)"
   ]
  },
  {
   "cell_type": "markdown",
   "metadata": {},
   "source": [
    "### Fibonacci Sequence Exercise"
   ]
  },
  {
   "cell_type": "code",
   "execution_count": 40,
   "metadata": {},
   "outputs": [
    {
     "name": "stdout",
     "output_type": "stream",
     "text": [
      "0\n",
      "1\n",
      "1\n",
      "2\n",
      "3\n",
      "5\n",
      "8\n",
      "13\n",
      "21\n",
      "34\n"
     ]
    }
   ],
   "source": [
    "def fib(num):\n",
    "    a = 0  # First number\n",
    "    b = 1  # Second number\n",
    "    for _ in range(num):\n",
    "        yield a  # Yield current number\n",
    "        # Calculate next Fibonacci number\n",
    "        a, b = b, a + b\n",
    "\n",
    "# Test the generator\n",
    "fibonacci_sequence = fib(10)\n",
    "\n",
    "# Print first 10 Fibonacci numbers\n",
    "for number in fibonacci_sequence:\n",
    "    print(number)"
   ]
  },
  {
   "cell_type": "code",
   "execution_count": null,
   "metadata": {},
   "outputs": [],
   "source": []
  }
 ],
 "metadata": {
  "kernelspec": {
   "display_name": "Python 3",
   "language": "python",
   "name": "python3"
  },
  "language_info": {
   "codemirror_mode": {
    "name": "ipython",
    "version": 3
   },
   "file_extension": ".py",
   "mimetype": "text/x-python",
   "name": "python",
   "nbconvert_exporter": "python",
   "pygments_lexer": "ipython3",
   "version": "3.11.9"
  }
 },
 "nbformat": 4,
 "nbformat_minor": 2
}
