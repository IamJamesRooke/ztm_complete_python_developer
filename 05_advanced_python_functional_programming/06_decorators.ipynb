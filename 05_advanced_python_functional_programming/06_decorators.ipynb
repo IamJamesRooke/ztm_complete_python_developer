{
 "cells": [
  {
   "cell_type": "markdown",
   "metadata": {},
   "source": [
    "# Decorators"
   ]
  },
  {
   "cell_type": "code",
   "execution_count": null,
   "metadata": {},
   "outputs": [],
   "source": [
    "@classmethod\n",
    "@staticmethod"
   ]
  },
  {
   "cell_type": "markdown",
   "metadata": {},
   "source": [
    "`@classmethod` review"
   ]
  },
  {
   "cell_type": "code",
   "execution_count": 1,
   "metadata": {},
   "outputs": [],
   "source": [
    "class Date:\n",
    "    def __init__(self, year, month, day):\n",
    "        self.year = year\n",
    "        self.month = month\n",
    "        self.day = day\n",
    "    \n",
    "    @classmethod\n",
    "    def from_string(cls, date_string):\n",
    "        # Alternative constructor that creates a Date from a string like \"2024-03-20\"\n",
    "        year, month, day = map(int, date_string.split('-'))\n",
    "        return cls(year, month, day)\n",
    "\n",
    "# Two ways to create a Date object:\n",
    "date1 = Date(2024, 3, 20)                  # Using regular constructor\n",
    "date2 = Date.from_string(\"2024-03-20\")     # Using class method"
   ]
  },
  {
   "cell_type": "markdown",
   "metadata": {},
   "source": [
    "My own classmethod"
   ]
  },
  {
   "cell_type": "code",
   "execution_count": 8,
   "metadata": {},
   "outputs": [],
   "source": [
    "class BookShelf:\n",
    "\n",
    "    num_books = 0\n",
    "    booklist = []\n",
    "\n",
    "    @classmethod\n",
    "    def add_book(cls, title, year):\n",
    "        cls.booklist.append((title, year))\n",
    "        cls.num_books += 1\n",
    "\n",
    "shelf1 = BookShelf()\n",
    "\n",
    "shelf1.add_book('All Quiet on the Western Front', 1914)\n",
    "\n",
    "print(f\"Number of Books: {shelf1.num_books}\")\n",
    "\n",
    "for book in shelf1.booklist:\n",
    "    print(book[0])\n"
   ]
  },
  {
   "cell_type": "code",
   "execution_count": 21,
   "metadata": {},
   "outputs": [
    {
     "name": "stdout",
     "output_type": "stream",
     "text": [
      "Total books in library: 3\n"
     ]
    }
   ],
   "source": [
    "class BookShelf:\n",
    "    # Class variable to track all books across all shelves\n",
    "    total_books_in_library = 0\n",
    "    \n",
    "    def __init__(self):\n",
    "        # Instance variables - unique to each shelf\n",
    "        self.books = []\n",
    "        self.num_books = 0\n",
    "    \n",
    "    def add_book(self, title, year):\n",
    "        # Regular instance method\n",
    "        self.books.append((title, year))\n",
    "        self.num_books += 1\n",
    "        BookShelf.total_books_in_library += 1\n",
    "    \n",
    "    @classmethod\n",
    "    def from_book_list(cls, book_list):\n",
    "        # Class method as alternative constructor\n",
    "        shelf = cls()  # Create new instance\n",
    "        for title, year in book_list:\n",
    "            shelf.add_book(title, year)\n",
    "        return shelf\n",
    "    \n",
    "    @classmethod\n",
    "    def get_total_books(cls):\n",
    "        # Class method to access class-level data\n",
    "        return cls.total_books_in_library\n",
    "\n",
    "# Usage:\n",
    "shelf1 = BookShelf()\n",
    "shelf1.add_book('All Quiet on the Western Front', 1914)\n",
    "\n",
    "# Using class method to create new shelf from list\n",
    "books_data = [\n",
    "    ('1984', 1949),\n",
    "    ('Brave New World', 1932)\n",
    "]\n",
    "shelf2 = BookShelf.from_book_list(books_data)\n",
    "\n",
    "print(f\"Total books in library: {BookShelf.get_total_books()}\")  # Shows 3"
   ]
  },
  {
   "cell_type": "markdown",
   "metadata": {},
   "source": [
    "`@staticmethod` review"
   ]
  },
  {
   "cell_type": "code",
   "execution_count": 2,
   "metadata": {},
   "outputs": [
    {
     "data": {
      "text/plain": [
       "False"
      ]
     },
     "execution_count": 2,
     "metadata": {},
     "output_type": "execute_result"
    }
   ],
   "source": [
    "class Calculator:\n",
    "    @staticmethod\n",
    "    def is_valid_number(num):\n",
    "        # Utility method that doesn't need access to class or instance\n",
    "        return isinstance(num, (int, float)) and num >= 0\n",
    "    \n",
    "    def add(self, x, y):\n",
    "        if self.is_valid_number(x) and self.is_valid_number(y):\n",
    "            return x + y\n",
    "        return \"Invalid input\"\n",
    "\n",
    "# Can be called either way:\n",
    "Calculator.is_valid_number(5)      # True\n",
    "calc = Calculator()\n",
    "calc.is_valid_number(-10)         # False"
   ]
  },
  {
   "cell_type": "markdown",
   "metadata": {},
   "source": [
    "My own static method"
   ]
  },
  {
   "cell_type": "code",
   "execution_count": 4,
   "metadata": {},
   "outputs": [
    {
     "name": "stdout",
     "output_type": "stream",
     "text": [
      "3\n",
      "2\n",
      "4\n",
      "5.0\n"
     ]
    }
   ],
   "source": [
    "class Calc:\n",
    "    @staticmethod\n",
    "    def add(x, y):\n",
    "        return x + y    \n",
    "    \n",
    "    @staticmethod\n",
    "    def subtract(x, y):\n",
    "        return x - y   \n",
    "    \n",
    "    @staticmethod\n",
    "    def multiply(x, y):\n",
    "        return x * y\n",
    "    \n",
    "    @staticmethod\n",
    "    def divide(x, y):\n",
    "        if y == 0:\n",
    "            return \"Cannot divide by zero\"\n",
    "        return x / y\n",
    "\n",
    "# Usage:\n",
    "print(Calc.add(1, 2))\n",
    "print(Calc.subtract(4, 2))\n",
    "print(Calc.multiply(2, 2))\n",
    "print(Calc.divide(10, 2))"
   ]
  },
  {
   "cell_type": "markdown",
   "metadata": {},
   "source": [
    "You can assign functions to variables."
   ]
  },
  {
   "cell_type": "code",
   "execution_count": 24,
   "metadata": {},
   "outputs": [
    {
     "name": "stdout",
     "output_type": "stream",
     "text": [
      "Hello!\n"
     ]
    }
   ],
   "source": [
    "def hello():\n",
    "    print(\"Hello!\")\n",
    "\n",
    "greeting = hello\n",
    "greeting()"
   ]
  },
  {
   "cell_type": "markdown",
   "metadata": {},
   "source": [
    "Higher Order Functions"
   ]
  },
  {
   "cell_type": "code",
   "execution_count": null,
   "metadata": {},
   "outputs": [],
   "source": [
    "\n",
    "def hello():\n",
    "    pass"
   ]
  }
 ],
 "metadata": {
  "kernelspec": {
   "display_name": "Python 3",
   "language": "python",
   "name": "python3"
  },
  "language_info": {
   "codemirror_mode": {
    "name": "ipython",
    "version": 3
   },
   "file_extension": ".py",
   "mimetype": "text/x-python",
   "name": "python",
   "nbconvert_exporter": "python",
   "pygments_lexer": "ipython3",
   "version": "3.11.9"
  }
 },
 "nbformat": 4,
 "nbformat_minor": 2
}
