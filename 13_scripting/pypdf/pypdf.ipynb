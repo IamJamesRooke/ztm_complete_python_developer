{
 "cells": [
  {
   "cell_type": "markdown",
   "metadata": {},
   "source": [
    "# PyPdf"
   ]
  },
  {
   "cell_type": "code",
   "execution_count": 3,
   "metadata": {},
   "outputs": [
    {
     "name": "stdout",
     "output_type": "stream",
     "text": [
      "Collecting PyPDF2==1.26\n",
      "  Using cached PyPDF2-1.26.0-py3-none-any.whl\n",
      "Installing collected packages: PyPDF2\n",
      "Successfully installed PyPDF2-1.26.0\n"
     ]
    }
   ],
   "source": [
    "!pip3 install PyPDF2==1.26"
   ]
  },
  {
   "cell_type": "code",
   "execution_count": 4,
   "metadata": {},
   "outputs": [],
   "source": [
    "import PyPDF2\n"
   ]
  },
  {
   "cell_type": "code",
   "execution_count": 5,
   "metadata": {},
   "outputs": [
    {
     "name": "stdout",
     "output_type": "stream",
     "text": [
      "<_io.TextIOWrapper name='dummy.pdf' mode='r' encoding='cp1252'>\n"
     ]
    }
   ],
   "source": [
    "with open('dummy.pdf', 'r') as file:\n",
    "    print(file)\n"
   ]
  },
  {
   "cell_type": "markdown",
   "metadata": {},
   "source": [
    "Page Reading"
   ]
  },
  {
   "cell_type": "code",
   "execution_count": 9,
   "metadata": {},
   "outputs": [
    {
     "name": "stdout",
     "output_type": "stream",
     "text": [
      "1\n",
      "2\n"
     ]
    }
   ],
   "source": [
    "with open('dummy.pdf', 'rb') as file: # need rb to read binary file\n",
    "    reader = PyPDF2.PdfFileReader(file)\n",
    "    print(reader.numPages)\n",
    "\n",
    "with open('twopage.pdf', 'rb') as file: # need rb to read binary file\n",
    "    reader = PyPDF2.PdfFileReader(file)\n",
    "    print(reader.numPages)\n"
   ]
  },
  {
   "cell_type": "code",
   "execution_count": 10,
   "metadata": {},
   "outputs": [
    {
     "name": "stdout",
     "output_type": "stream",
     "text": [
      "{'/Type': '/Page', '/Parent': IndirectObject(4, 0), '/Resources': IndirectObject(11, 0), '/MediaBox': [0, 0, 595, 842], '/Group': {'/S': '/Transparency', '/CS': '/DeviceRGB', '/I': <PyPDF2.generic.BooleanObject object at 0x00000197B294F0D0>}, '/Contents': IndirectObject(2, 0)}\n"
     ]
    }
   ],
   "source": [
    "with open('dummy.pdf', 'rb') as file: # need rb to read binary file\n",
    "    reader = PyPDF2.PdfFileReader(file)\n",
    "    print(reader.getPage(0))\n"
   ]
  },
  {
   "cell_type": "code",
   "execution_count": 13,
   "metadata": {},
   "outputs": [
    {
     "name": "stdout",
     "output_type": "stream",
     "text": [
      "{'/Type': '/Page', '/Parent': IndirectObject(4, 0), '/Resources': IndirectObject(11, 0), '/MediaBox': [0, 0, 595, 842], '/Group': {'/S': '/Transparency', '/CS': '/DeviceRGB', '/I': <PyPDF2.generic.BooleanObject object at 0x00000197B290FE50>}, '/Contents': IndirectObject(2, 0), '/Rotate': -90}\n"
     ]
    }
   ],
   "source": [
    "with open('dummy.pdf', 'rb') as file: # need rb to read binary file\n",
    "    reader = PyPDF2.PdfFileReader(file)\n",
    "    page = reader.getPage(0)\n",
    "    print(page.rotateCounterClockwise(90))\n",
    "\n",
    "    with open('tilt.pdf', 'wb') as new_file:\n",
    "        writer = PyPDF2.PdfFileWriter()\n",
    "        writer.addPage(page)\n",
    "        writer.write(new_file)\n"
   ]
  },
  {
   "cell_type": "markdown",
   "metadata": {},
   "source": [
    "## Exercise: PDF Merger"
   ]
  },
  {
   "cell_type": "code",
   "execution_count": 14,
   "metadata": {},
   "outputs": [],
   "source": [
    "import PyPDF2\n",
    "\n",
    "# Open the PDF files\n",
    "pdf1 = open('dummy.pdf', 'rb')\n",
    "pdf2 = open('tilt.pdf', 'rb')\n",
    "\n",
    "# Create merger object\n",
    "merger = PyPDF2.PdfFileMerger()\n",
    "\n",
    "# Add PDFs to merger\n",
    "merger.append(pdf1)\n",
    "merger.append(pdf2)\n",
    "\n",
    "# Write merged PDF\n",
    "with open('merged_output.pdf', 'wb') as output:\n",
    "    merger.write(output)\n",
    "\n",
    "# Close all files\n",
    "pdf1.close()\n",
    "pdf2.close()\n",
    "merger.close()"
   ]
  },
  {
   "cell_type": "code",
   "execution_count": null,
   "metadata": {},
   "outputs": [],
   "source": []
  }
 ],
 "metadata": {
  "kernelspec": {
   "display_name": "venv",
   "language": "python",
   "name": "python3"
  },
  "language_info": {
   "codemirror_mode": {
    "name": "ipython",
    "version": 3
   },
   "file_extension": ".py",
   "mimetype": "text/x-python",
   "name": "python",
   "nbconvert_exporter": "python",
   "pygments_lexer": "ipython3",
   "version": "3.11.9"
  }
 },
 "nbformat": 4,
 "nbformat_minor": 2
}
