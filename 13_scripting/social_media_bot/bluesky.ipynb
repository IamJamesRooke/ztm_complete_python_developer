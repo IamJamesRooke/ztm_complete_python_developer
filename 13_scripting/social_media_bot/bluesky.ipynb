{
 "cells": [
  {
   "cell_type": "markdown",
   "metadata": {},
   "source": [
    "Not really doing this exercise because I don't care about making a bot, but will only want to know the theory."
   ]
  },
  {
   "cell_type": "raw",
   "metadata": {
    "vscode": {
     "languageId": "raw"
    }
   },
   "source": [
    "Shout out to fellow student @Michael Greenhut who provided this code!\n",
    "\n",
    "BlueSky bot steps:\n",
    "\n",
    "#1) setup\n",
    "pip install atproto\n",
    "\n",
    "# now you can create a python file and use the below code:\n",
    "\n",
    "from atproto import Client\n",
    "\n",
    "client = Client()\n",
    "\n",
    "login = client.login('yourhandle.bsky.social','NoyMyRealPassword')\n",
    "print(login.handle,login.display_name,login.followers_count)\n",
    "\n",
    "post = client.send_post('Testing my Python script. Hey there, fellow Final Fantasy nerds!')\n",
    "\n",
    "\n",
    "#2) Feed:\n",
    "\n",
    "try:\n",
    "    data = client.get_timeline(limit=30)\n",
    "    feed = data.feed\n",
    "    next_page = data.cursor\n",
    "    for item in feed:\n",
    "        print (item.post)\n",
    "except NetworkError as error:\n",
    "    print(f\"something went wrong:{error} \")\n",
    "\n",
    "#3) Generous Bot\n",
    "def limit_handler(follower_bundle):\n",
    "    try:\n",
    "        while True and len(follower_bundle.followers) > 0:\n",
    "            yield follower_bundle.followers.pop()\n",
    "    except NetworkError as error:\n",
    "        time.sleep(1000)\n",
    "\n",
    "followers = client.get_followers(login.did)\n",
    "for follower in limit_handler(followers):\n",
    "    print(f\"follower: {follower}\")\n",
    "    if follower.display_name == \"whomever\":\n",
    "        client.follow(follower.did)\n",
    "\n",
    "#4 Like Bot\n",
    "search_string= 'Final Fantasy'\n",
    "numberOfPosts = 2\n",
    "count = 0\n",
    "try:\n",
    "    for item in feed:\n",
    "       if item.post.record.text.find(search_string) > -1:\n",
    "           count += 1\n",
    "           client.like(item.post.uri,item.post.cid)\n",
    "           if count >= numberOfPosts:\n",
    "               break\n",
    "except NetworkError as e:\n",
    "    print(e.response)\n",
    "except StopIteration as e:\n",
    "    print(e)"
   ]
  }
 ],
 "metadata": {
  "kernelspec": {
   "display_name": "venv",
   "language": "python",
   "name": "python3"
  },
  "language_info": {
   "codemirror_mode": {
    "name": "ipython",
    "version": 3
   },
   "file_extension": ".py",
   "mimetype": "text/x-python",
   "name": "python",
   "nbconvert_exporter": "python",
   "pygments_lexer": "ipython3",
   "version": "3.11.9"
  }
 },
 "nbformat": 4,
 "nbformat_minor": 2
}
